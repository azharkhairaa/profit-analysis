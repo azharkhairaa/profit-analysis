{
  "cells": [
    {
      "cell_type": "markdown",
      "metadata": {
        "id": "wlBw9y5dfyu6"
      },
      "source": [
        "# 1-Introduction"
      ]
    },
    {
      "cell_type": "markdown",
      "metadata": {
        "id": "8knaqfFkf2n3"
      },
      "source": [
        "Milestone 1\n",
        "\n",
        "Nama    : Muhammad Azhar Khaira\n",
        "\n",
        "Batch   : RMT-033"
      ]
    },
    {
      "cell_type": "markdown",
      "metadata": {},
      "source": [
        "Objective:\n",
        "- melakukan data preprocessing\n",
        "- melakukan data cleaning\n",
        "- melakukan analisa\n",
        "- melakukan data visualization\n",
        "- memberikan kesimpulan dari hasil analisa"
      ]
    },
    {
      "cell_type": "markdown",
      "metadata": {},
      "source": [
        "[Link Tableau](https://public.tableau.com/app/profile/azhar5329/viz/h8dsft_Milestone1_azhar_khaira/Milestone-1?publish=yes)"
      ]
    },
    {
      "cell_type": "markdown",
      "metadata": {
        "id": "f7mg-EgegFjj"
      },
      "source": [
        "# 2-Identifikasi Masalah"
      ]
    },
    {
      "cell_type": "markdown",
      "metadata": {},
      "source": [
        "## 2.1-Topik Permasalahan"
      ]
    },
    {
      "cell_type": "markdown",
      "metadata": {},
      "source": [
        "Peningkatan profit perusahaan."
      ]
    },
    {
      "cell_type": "markdown",
      "metadata": {},
      "source": [
        "## 2.2-Problem Statement"
      ]
    },
    {
      "cell_type": "markdown",
      "metadata": {},
      "source": [
        "Bagaimana meningkatkan profit dengan memahami pola penjualan saat ini."
      ]
    },
    {
      "cell_type": "markdown",
      "metadata": {},
      "source": [
        "### 2.2.1-SMART Framework"
      ]
    },
    {
      "cell_type": "markdown",
      "metadata": {
        "id": "uCbzwiFlg23N"
      },
      "source": [
        "- S (Spesific)\n",
        "\n",
        "Memahami dan menganalisis pola penjualan produk untuk meningkatkan profit dengan mengidentifikasi faktor-faktor utama yang mempengaruhi profitability.\n",
        "\n",
        "- M (Measurable)\n",
        "\n",
        "Mengukur peningkatan profit sebesar 5%.\n",
        "\n",
        "- A (Achievable)\n",
        "\n",
        "Dengan menganalisis data penjualan dan mengidentifikasi pola-pola utama, meningkatkan profit sebesar 5% adalah target yang realistis.\n",
        "\n",
        "- R (Relevant)\n",
        "\n",
        "Meningkatkan profit berdampak untuk pertumbuhan perusahaan.\n",
        "\n",
        "- T (Time-Bound)\n",
        "\n",
        "Mencapai peningkatan sebesar 5% dalam 1 quarter ke depan."
      ]
    },
    {
      "cell_type": "markdown",
      "metadata": {},
      "source": [
        "## 2.3-Latar Belakang"
      ]
    },
    {
      "cell_type": "markdown",
      "metadata": {},
      "source": [
        "Analisis data penjualan dapat membantu perusahaan memahami pola penjualan dan membuat keputusan yang lebih baik dalam strategi pemasaran dan pengembangan produk"
      ]
    },
    {
      "cell_type": "markdown",
      "metadata": {},
      "source": [
        "## 2.4-Penjabaran Masalah"
      ]
    },
    {
      "cell_type": "markdown",
      "metadata": {
        "id": "BvSBAnTkg93c"
      },
      "source": [
        "Main Problem: Bagaimana meningkatkan profit dengan memahami pola penjualan saat ini.\n",
        "\n",
        "Penjabaran masalah dengan metode 5W + 1H:\n",
        "\n",
        "1. Kategori produk apa yang memiliki persentase profit tertinggi?\n",
        "2. Bagaimana trend profit saat ini?\n",
        "3. Negara mana yang memiliki persentase profit tertinggi?\n",
        "4. Bagaimana segmentasi pasar berdasarkan profit saat ini?\n",
        "5. Apakah terdapat korelasi antara revenue dan profit?\n",
        "6. Apakah mungkin meningkatkan profit sebesar 5%?"
      ]
    },
    {
      "cell_type": "markdown",
      "metadata": {
        "id": "Loi3_QZwhA4f"
      },
      "source": [
        "# 3-Data Loading"
      ]
    },
    {
      "cell_type": "markdown",
      "metadata": {
        "id": "yfeuNoM6XCZY"
      },
      "source": [
        "## 3.1-Import Library"
      ]
    },
    {
      "cell_type": "code",
      "execution_count": 123,
      "metadata": {
        "id": "SFWE7dJIXBI7"
      },
      "outputs": [],
      "source": [
        "# libraries\n",
        "import pandas as pd\n",
        "import matplotlib.pyplot as plt\n",
        "import numpy as np\n",
        "import seaborn as sns\n",
        "import math\n",
        "from scipy import stats\n"
      ]
    },
    {
      "cell_type": "markdown",
      "metadata": {
        "id": "hNq5xQ4sV78F"
      },
      "source": [
        "[LINK DATASET](https://www.kaggle.com/datasets/thedevastator/analyzing-customer-spending-habits-to-improve-sa)"
      ]
    },
    {
      "cell_type": "markdown",
      "metadata": {
        "id": "dMVt36OE0jHi"
      },
      "source": [
        "## 3.2-Load Data"
      ]
    },
    {
      "cell_type": "code",
      "execution_count": 124,
      "metadata": {
        "id": "4zLOTxY0hJN-"
      },
      "outputs": [],
      "source": [
        "# read data from csv\n",
        "df = pd.read_csv(\"SalesForCourse_quizz_table.csv\")"
      ]
    },
    {
      "cell_type": "code",
      "execution_count": 125,
      "metadata": {
        "id": "YJZ1Xj1r7XG5"
      },
      "outputs": [
        {
          "data": {
            "text/html": [
              "<div>\n",
              "<style scoped>\n",
              "    .dataframe tbody tr th:only-of-type {\n",
              "        vertical-align: middle;\n",
              "    }\n",
              "\n",
              "    .dataframe tbody tr th {\n",
              "        vertical-align: top;\n",
              "    }\n",
              "\n",
              "    .dataframe thead th {\n",
              "        text-align: right;\n",
              "    }\n",
              "</style>\n",
              "<table border=\"1\" class=\"dataframe\">\n",
              "  <thead>\n",
              "    <tr style=\"text-align: right;\">\n",
              "      <th></th>\n",
              "      <th>index</th>\n",
              "      <th>Date</th>\n",
              "      <th>Year</th>\n",
              "      <th>Month</th>\n",
              "      <th>Customer Age</th>\n",
              "      <th>Customer Gender</th>\n",
              "      <th>Country</th>\n",
              "      <th>State</th>\n",
              "      <th>Product Category</th>\n",
              "      <th>Sub Category</th>\n",
              "      <th>Quantity</th>\n",
              "      <th>Unit Cost</th>\n",
              "      <th>Unit Price</th>\n",
              "      <th>Cost</th>\n",
              "      <th>Revenue</th>\n",
              "      <th>Column1</th>\n",
              "    </tr>\n",
              "  </thead>\n",
              "  <tbody>\n",
              "    <tr>\n",
              "      <th>0</th>\n",
              "      <td>0</td>\n",
              "      <td>02/19/16</td>\n",
              "      <td>2016.0</td>\n",
              "      <td>February</td>\n",
              "      <td>29.0</td>\n",
              "      <td>F</td>\n",
              "      <td>United States</td>\n",
              "      <td>Washington</td>\n",
              "      <td>Accessories</td>\n",
              "      <td>Tires and Tubes</td>\n",
              "      <td>1.0</td>\n",
              "      <td>80.00</td>\n",
              "      <td>109.000000</td>\n",
              "      <td>80.0</td>\n",
              "      <td>109.000000</td>\n",
              "      <td>NaN</td>\n",
              "    </tr>\n",
              "    <tr>\n",
              "      <th>1</th>\n",
              "      <td>1</td>\n",
              "      <td>02/20/16</td>\n",
              "      <td>2016.0</td>\n",
              "      <td>February</td>\n",
              "      <td>29.0</td>\n",
              "      <td>F</td>\n",
              "      <td>United States</td>\n",
              "      <td>Washington</td>\n",
              "      <td>Clothing</td>\n",
              "      <td>Gloves</td>\n",
              "      <td>2.0</td>\n",
              "      <td>24.50</td>\n",
              "      <td>28.500000</td>\n",
              "      <td>49.0</td>\n",
              "      <td>57.000000</td>\n",
              "      <td>NaN</td>\n",
              "    </tr>\n",
              "    <tr>\n",
              "      <th>2</th>\n",
              "      <td>2</td>\n",
              "      <td>02/27/16</td>\n",
              "      <td>2016.0</td>\n",
              "      <td>February</td>\n",
              "      <td>29.0</td>\n",
              "      <td>F</td>\n",
              "      <td>United States</td>\n",
              "      <td>Washington</td>\n",
              "      <td>Accessories</td>\n",
              "      <td>Tires and Tubes</td>\n",
              "      <td>3.0</td>\n",
              "      <td>3.67</td>\n",
              "      <td>5.000000</td>\n",
              "      <td>11.0</td>\n",
              "      <td>15.000000</td>\n",
              "      <td>NaN</td>\n",
              "    </tr>\n",
              "    <tr>\n",
              "      <th>3</th>\n",
              "      <td>3</td>\n",
              "      <td>03/12/16</td>\n",
              "      <td>2016.0</td>\n",
              "      <td>March</td>\n",
              "      <td>29.0</td>\n",
              "      <td>F</td>\n",
              "      <td>United States</td>\n",
              "      <td>Washington</td>\n",
              "      <td>Accessories</td>\n",
              "      <td>Tires and Tubes</td>\n",
              "      <td>2.0</td>\n",
              "      <td>87.50</td>\n",
              "      <td>116.500000</td>\n",
              "      <td>175.0</td>\n",
              "      <td>233.000000</td>\n",
              "      <td>NaN</td>\n",
              "    </tr>\n",
              "    <tr>\n",
              "      <th>4</th>\n",
              "      <td>4</td>\n",
              "      <td>03/12/16</td>\n",
              "      <td>2016.0</td>\n",
              "      <td>March</td>\n",
              "      <td>29.0</td>\n",
              "      <td>F</td>\n",
              "      <td>United States</td>\n",
              "      <td>Washington</td>\n",
              "      <td>Accessories</td>\n",
              "      <td>Tires and Tubes</td>\n",
              "      <td>3.0</td>\n",
              "      <td>35.00</td>\n",
              "      <td>41.666667</td>\n",
              "      <td>105.0</td>\n",
              "      <td>125.000000</td>\n",
              "      <td>NaN</td>\n",
              "    </tr>\n",
              "    <tr>\n",
              "      <th>...</th>\n",
              "      <td>...</td>\n",
              "      <td>...</td>\n",
              "      <td>...</td>\n",
              "      <td>...</td>\n",
              "      <td>...</td>\n",
              "      <td>...</td>\n",
              "      <td>...</td>\n",
              "      <td>...</td>\n",
              "      <td>...</td>\n",
              "      <td>...</td>\n",
              "      <td>...</td>\n",
              "      <td>...</td>\n",
              "      <td>...</td>\n",
              "      <td>...</td>\n",
              "      <td>...</td>\n",
              "      <td>...</td>\n",
              "    </tr>\n",
              "    <tr>\n",
              "      <th>34862</th>\n",
              "      <td>34862</td>\n",
              "      <td>02/07/16</td>\n",
              "      <td>2016.0</td>\n",
              "      <td>February</td>\n",
              "      <td>38.0</td>\n",
              "      <td>M</td>\n",
              "      <td>France</td>\n",
              "      <td>Hauts de Seine</td>\n",
              "      <td>Bikes</td>\n",
              "      <td>Mountain Bikes</td>\n",
              "      <td>2.0</td>\n",
              "      <td>1160.00</td>\n",
              "      <td>985.500000</td>\n",
              "      <td>2320.0</td>\n",
              "      <td>1971.000000</td>\n",
              "      <td>NaN</td>\n",
              "    </tr>\n",
              "    <tr>\n",
              "      <th>34863</th>\n",
              "      <td>34863</td>\n",
              "      <td>03/13/15</td>\n",
              "      <td>2015.0</td>\n",
              "      <td>March</td>\n",
              "      <td>38.0</td>\n",
              "      <td>M</td>\n",
              "      <td>France</td>\n",
              "      <td>Hauts de Seine</td>\n",
              "      <td>Bikes</td>\n",
              "      <td>Mountain Bikes</td>\n",
              "      <td>1.0</td>\n",
              "      <td>2049.00</td>\n",
              "      <td>1583.000000</td>\n",
              "      <td>2049.0</td>\n",
              "      <td>1583.000000</td>\n",
              "      <td>NaN</td>\n",
              "    </tr>\n",
              "    <tr>\n",
              "      <th>34864</th>\n",
              "      <td>34864</td>\n",
              "      <td>04/05/15</td>\n",
              "      <td>2015.0</td>\n",
              "      <td>April</td>\n",
              "      <td>38.0</td>\n",
              "      <td>M</td>\n",
              "      <td>France</td>\n",
              "      <td>Hauts de Seine</td>\n",
              "      <td>Bikes</td>\n",
              "      <td>Mountain Bikes</td>\n",
              "      <td>3.0</td>\n",
              "      <td>683.00</td>\n",
              "      <td>560.666667</td>\n",
              "      <td>2049.0</td>\n",
              "      <td>1682.000000</td>\n",
              "      <td>NaN</td>\n",
              "    </tr>\n",
              "    <tr>\n",
              "      <th>34865</th>\n",
              "      <td>34865</td>\n",
              "      <td>08/30/15</td>\n",
              "      <td>2015.0</td>\n",
              "      <td>August</td>\n",
              "      <td>38.0</td>\n",
              "      <td>M</td>\n",
              "      <td>France</td>\n",
              "      <td>Hauts de Seine</td>\n",
              "      <td>Bikes</td>\n",
              "      <td>Mountain Bikes</td>\n",
              "      <td>1.0</td>\n",
              "      <td>2320.00</td>\n",
              "      <td>1568.000000</td>\n",
              "      <td>2320.0</td>\n",
              "      <td>1568.000000</td>\n",
              "      <td>NaN</td>\n",
              "    </tr>\n",
              "    <tr>\n",
              "      <th>34866</th>\n",
              "      <td>34866</td>\n",
              "      <td>NaN</td>\n",
              "      <td>NaN</td>\n",
              "      <td>NaN</td>\n",
              "      <td>NaN</td>\n",
              "      <td>NaN</td>\n",
              "      <td>NaN</td>\n",
              "      <td>NaN</td>\n",
              "      <td>NaN</td>\n",
              "      <td>NaN</td>\n",
              "      <td>NaN</td>\n",
              "      <td>NaN</td>\n",
              "      <td>NaN</td>\n",
              "      <td>NaN</td>\n",
              "      <td>641.532095</td>\n",
              "      <td>NaN</td>\n",
              "    </tr>\n",
              "  </tbody>\n",
              "</table>\n",
              "<p>34867 rows × 16 columns</p>\n",
              "</div>"
            ],
            "text/plain": [
              "       index      Date    Year     Month  Customer Age Customer Gender  \\\n",
              "0          0  02/19/16  2016.0  February          29.0               F   \n",
              "1          1  02/20/16  2016.0  February          29.0               F   \n",
              "2          2  02/27/16  2016.0  February          29.0               F   \n",
              "3          3  03/12/16  2016.0     March          29.0               F   \n",
              "4          4  03/12/16  2016.0     March          29.0               F   \n",
              "...      ...       ...     ...       ...           ...             ...   \n",
              "34862  34862  02/07/16  2016.0  February          38.0               M   \n",
              "34863  34863  03/13/15  2015.0     March          38.0               M   \n",
              "34864  34864  04/05/15  2015.0     April          38.0               M   \n",
              "34865  34865  08/30/15  2015.0    August          38.0               M   \n",
              "34866  34866       NaN     NaN       NaN           NaN             NaN   \n",
              "\n",
              "             Country           State Product Category     Sub Category  \\\n",
              "0      United States      Washington      Accessories  Tires and Tubes   \n",
              "1      United States      Washington         Clothing           Gloves   \n",
              "2      United States      Washington      Accessories  Tires and Tubes   \n",
              "3      United States      Washington      Accessories  Tires and Tubes   \n",
              "4      United States      Washington      Accessories  Tires and Tubes   \n",
              "...              ...             ...              ...              ...   \n",
              "34862         France  Hauts de Seine            Bikes   Mountain Bikes   \n",
              "34863         France  Hauts de Seine            Bikes   Mountain Bikes   \n",
              "34864         France  Hauts de Seine            Bikes   Mountain Bikes   \n",
              "34865         France  Hauts de Seine            Bikes   Mountain Bikes   \n",
              "34866            NaN             NaN              NaN              NaN   \n",
              "\n",
              "       Quantity  Unit Cost   Unit Price    Cost      Revenue  Column1  \n",
              "0           1.0      80.00   109.000000    80.0   109.000000      NaN  \n",
              "1           2.0      24.50    28.500000    49.0    57.000000      NaN  \n",
              "2           3.0       3.67     5.000000    11.0    15.000000      NaN  \n",
              "3           2.0      87.50   116.500000   175.0   233.000000      NaN  \n",
              "4           3.0      35.00    41.666667   105.0   125.000000      NaN  \n",
              "...         ...        ...          ...     ...          ...      ...  \n",
              "34862       2.0    1160.00   985.500000  2320.0  1971.000000      NaN  \n",
              "34863       1.0    2049.00  1583.000000  2049.0  1583.000000      NaN  \n",
              "34864       3.0     683.00   560.666667  2049.0  1682.000000      NaN  \n",
              "34865       1.0    2320.00  1568.000000  2320.0  1568.000000      NaN  \n",
              "34866       NaN        NaN          NaN     NaN   641.532095      NaN  \n",
              "\n",
              "[34867 rows x 16 columns]"
            ]
          },
          "execution_count": 125,
          "metadata": {},
          "output_type": "execute_result"
        }
      ],
      "source": [
        "# show dataframe\n",
        "df"
      ]
    },
    {
      "cell_type": "markdown",
      "metadata": {
        "id": "NqznOSkN7ipD"
      },
      "source": [
        "insight:\n",
        "- dataset berisikan informasi mengenai penjualan produk dengan tanggal, segmentasi customer dan data financial sales"
      ]
    },
    {
      "cell_type": "markdown",
      "metadata": {
        "id": "NywMHfWG0oIn"
      },
      "source": [
        "## 3.3-Check data"
      ]
    },
    {
      "cell_type": "code",
      "execution_count": 126,
      "metadata": {
        "id": "HXbTMAEh7YCu"
      },
      "outputs": [
        {
          "name": "stdout",
          "output_type": "stream",
          "text": [
            "<class 'pandas.core.frame.DataFrame'>\n",
            "RangeIndex: 34867 entries, 0 to 34866\n",
            "Data columns (total 16 columns):\n",
            " #   Column            Non-Null Count  Dtype  \n",
            "---  ------            --------------  -----  \n",
            " 0   index             34867 non-null  int64  \n",
            " 1   Date              34866 non-null  object \n",
            " 2   Year              34866 non-null  float64\n",
            " 3   Month             34866 non-null  object \n",
            " 4   Customer Age      34866 non-null  float64\n",
            " 5   Customer Gender   34866 non-null  object \n",
            " 6   Country           34866 non-null  object \n",
            " 7   State             34866 non-null  object \n",
            " 8   Product Category  34866 non-null  object \n",
            " 9   Sub Category      34866 non-null  object \n",
            " 10  Quantity          34866 non-null  float64\n",
            " 11  Unit Cost         34866 non-null  float64\n",
            " 12  Unit Price        34866 non-null  float64\n",
            " 13  Cost              34866 non-null  float64\n",
            " 14  Revenue           34867 non-null  float64\n",
            " 15  Column1           2574 non-null   float64\n",
            "dtypes: float64(8), int64(1), object(7)\n",
            "memory usage: 4.3+ MB\n"
          ]
        }
      ],
      "source": [
        "# dataframe info\n",
        "df.info()"
      ]
    },
    {
      "cell_type": "markdown",
      "metadata": {
        "id": "tmnFdHNM7jIf"
      },
      "source": [
        "insight:\n",
        "- data terdiri dari 34.867 baris dan 16 kolom\n",
        "- terdapat kolom `index` tambahan\n",
        "- tipe data 'Date' masih berupa `object`\n",
        "- tipe data 'Year' berupa `float`\n",
        "- tipe data 'Customer Age' berupa `float`\n",
        "- tipe data 'Quantity' berupa `float`\n",
        "- terdapat nama kolom yang tidak representatif yaitu kolom `Column1`"
      ]
    },
    {
      "cell_type": "markdown",
      "metadata": {},
      "source": [
        "tindak lanjut:\n",
        "- menyesuaikan format penulisan nama kolom\n",
        "- menyesuaikan tipe data\n",
        "- mengecek unique value dari `Column1`"
      ]
    },
    {
      "cell_type": "code",
      "execution_count": 127,
      "metadata": {
        "id": "dwqbuxT-7ZVu"
      },
      "outputs": [
        {
          "data": {
            "text/plain": [
              "index                   0\n",
              "Date                    1\n",
              "Year                    1\n",
              "Month                   1\n",
              "Customer Age            1\n",
              "Customer Gender         1\n",
              "Country                 1\n",
              "State                   1\n",
              "Product Category        1\n",
              "Sub Category            1\n",
              "Quantity                1\n",
              "Unit Cost               1\n",
              "Unit Price              1\n",
              "Cost                    1\n",
              "Revenue                 0\n",
              "Column1             32293\n",
              "dtype: int64"
            ]
          },
          "execution_count": 127,
          "metadata": {},
          "output_type": "execute_result"
        }
      ],
      "source": [
        "# cek missing value\n",
        "df.isnull().sum()"
      ]
    },
    {
      "cell_type": "markdown",
      "metadata": {
        "id": "nOWe3d587jjs"
      },
      "source": [
        "insight:\n",
        "- terdapat missing value pada setiap kolom kecuali 'Revenue'\n",
        "- terdapat banyak missing value pada 'Column1'"
      ]
    },
    {
      "cell_type": "markdown",
      "metadata": {},
      "source": [
        "tindak lanjut:\n",
        "- handle missing value\n",
        "- mengecek unique value pada 'Column1', jika tidak bermakna apapun maka akan dilakukan drop"
      ]
    },
    {
      "cell_type": "code",
      "execution_count": 128,
      "metadata": {},
      "outputs": [
        {
          "data": {
            "text/html": [
              "<div>\n",
              "<style scoped>\n",
              "    .dataframe tbody tr th:only-of-type {\n",
              "        vertical-align: middle;\n",
              "    }\n",
              "\n",
              "    .dataframe tbody tr th {\n",
              "        vertical-align: top;\n",
              "    }\n",
              "\n",
              "    .dataframe thead th {\n",
              "        text-align: right;\n",
              "    }\n",
              "</style>\n",
              "<table border=\"1\" class=\"dataframe\">\n",
              "  <thead>\n",
              "    <tr style=\"text-align: right;\">\n",
              "      <th></th>\n",
              "      <th>index</th>\n",
              "      <th>Date</th>\n",
              "      <th>Year</th>\n",
              "      <th>Month</th>\n",
              "      <th>Customer Age</th>\n",
              "      <th>Customer Gender</th>\n",
              "      <th>Country</th>\n",
              "      <th>State</th>\n",
              "      <th>Product Category</th>\n",
              "      <th>Sub Category</th>\n",
              "      <th>Quantity</th>\n",
              "      <th>Unit Cost</th>\n",
              "      <th>Unit Price</th>\n",
              "      <th>Cost</th>\n",
              "      <th>Revenue</th>\n",
              "      <th>Column1</th>\n",
              "    </tr>\n",
              "  </thead>\n",
              "  <tbody>\n",
              "    <tr>\n",
              "      <th>34866</th>\n",
              "      <td>34866</td>\n",
              "      <td>NaN</td>\n",
              "      <td>NaN</td>\n",
              "      <td>NaN</td>\n",
              "      <td>NaN</td>\n",
              "      <td>NaN</td>\n",
              "      <td>NaN</td>\n",
              "      <td>NaN</td>\n",
              "      <td>NaN</td>\n",
              "      <td>NaN</td>\n",
              "      <td>NaN</td>\n",
              "      <td>NaN</td>\n",
              "      <td>NaN</td>\n",
              "      <td>NaN</td>\n",
              "      <td>641.532095</td>\n",
              "      <td>NaN</td>\n",
              "    </tr>\n",
              "  </tbody>\n",
              "</table>\n",
              "</div>"
            ],
            "text/plain": [
              "       index Date  Year Month  Customer Age Customer Gender Country State  \\\n",
              "34866  34866  NaN   NaN   NaN           NaN             NaN     NaN   NaN   \n",
              "\n",
              "      Product Category Sub Category  Quantity  Unit Cost  Unit Price  Cost  \\\n",
              "34866              NaN          NaN       NaN        NaN         NaN   NaN   \n",
              "\n",
              "          Revenue  Column1  \n",
              "34866  641.532095      NaN  "
            ]
          },
          "execution_count": 128,
          "metadata": {},
          "output_type": "execute_result"
        }
      ],
      "source": [
        "# dataframe selain dari Column1\n",
        "df_no_column1 = df.drop(columns=[\"Column1\"])\n",
        "\n",
        "# baris data dengan missing value\n",
        "df[df_no_column1.isnull().any(axis=1)]"
      ]
    },
    {
      "cell_type": "markdown",
      "metadata": {},
      "source": [
        "insight:\n",
        "- terdapat 1 baris dengan mayoritas missing value"
      ]
    },
    {
      "cell_type": "markdown",
      "metadata": {},
      "source": [
        "tindak lanjut:\n",
        "- handling missing value yang dilakukan adalah drop data missing value"
      ]
    },
    {
      "cell_type": "code",
      "execution_count": 129,
      "metadata": {
        "id": "titXys0i7boU"
      },
      "outputs": [
        {
          "data": {
            "text/html": [
              "<div>\n",
              "<style scoped>\n",
              "    .dataframe tbody tr th:only-of-type {\n",
              "        vertical-align: middle;\n",
              "    }\n",
              "\n",
              "    .dataframe tbody tr th {\n",
              "        vertical-align: top;\n",
              "    }\n",
              "\n",
              "    .dataframe thead th {\n",
              "        text-align: right;\n",
              "    }\n",
              "</style>\n",
              "<table border=\"1\" class=\"dataframe\">\n",
              "  <thead>\n",
              "    <tr style=\"text-align: right;\">\n",
              "      <th></th>\n",
              "      <th>index</th>\n",
              "      <th>Date</th>\n",
              "      <th>Year</th>\n",
              "      <th>Month</th>\n",
              "      <th>Customer Age</th>\n",
              "      <th>Customer Gender</th>\n",
              "      <th>Country</th>\n",
              "      <th>State</th>\n",
              "      <th>Product Category</th>\n",
              "      <th>Sub Category</th>\n",
              "      <th>Quantity</th>\n",
              "      <th>Unit Cost</th>\n",
              "      <th>Unit Price</th>\n",
              "      <th>Cost</th>\n",
              "      <th>Revenue</th>\n",
              "      <th>Column1</th>\n",
              "    </tr>\n",
              "  </thead>\n",
              "  <tbody>\n",
              "  </tbody>\n",
              "</table>\n",
              "</div>"
            ],
            "text/plain": [
              "Empty DataFrame\n",
              "Columns: [index, Date, Year, Month, Customer Age, Customer Gender, Country, State, Product Category, Sub Category, Quantity, Unit Cost, Unit Price, Cost, Revenue, Column1]\n",
              "Index: []"
            ]
          },
          "execution_count": 129,
          "metadata": {},
          "output_type": "execute_result"
        }
      ],
      "source": [
        "# cek data duplicate\n",
        "df[df.duplicated()]"
      ]
    },
    {
      "cell_type": "markdown",
      "metadata": {
        "id": "LVcQB6Bf7j6I"
      },
      "source": [
        "insight:\n",
        "- tidak ada data duplicate"
      ]
    },
    {
      "cell_type": "code",
      "execution_count": 130,
      "metadata": {},
      "outputs": [
        {
          "name": "stdout",
          "output_type": "stream",
          "text": [
            "<class 'pandas.core.frame.DataFrame'>\n",
            "RangeIndex: 34867 entries, 0 to 34866\n",
            "Data columns (total 16 columns):\n",
            " #   Column            Non-Null Count  Dtype  \n",
            "---  ------            --------------  -----  \n",
            " 0   index             34867 non-null  int64  \n",
            " 1   Date              34866 non-null  object \n",
            " 2   Year              34866 non-null  float64\n",
            " 3   Month             34866 non-null  object \n",
            " 4   Customer Age      34866 non-null  float64\n",
            " 5   Customer Gender   34866 non-null  object \n",
            " 6   Country           34866 non-null  object \n",
            " 7   State             34866 non-null  object \n",
            " 8   Product Category  34866 non-null  object \n",
            " 9   Sub Category      34866 non-null  object \n",
            " 10  Quantity          34866 non-null  float64\n",
            " 11  Unit Cost         34866 non-null  float64\n",
            " 12  Unit Price        34866 non-null  float64\n",
            " 13  Cost              34866 non-null  float64\n",
            " 14  Revenue           34867 non-null  float64\n",
            " 15  Column1           2574 non-null   float64\n",
            "dtypes: float64(8), int64(1), object(7)\n",
            "memory usage: 4.3+ MB\n"
          ]
        }
      ],
      "source": [
        "df.info()"
      ]
    },
    {
      "cell_type": "code",
      "execution_count": 131,
      "metadata": {},
      "outputs": [
        {
          "data": {
            "text/plain": [
              "Product Category\n",
              "Accessories    22534\n",
              "Bikes           7093\n",
              "Clothing        5239\n",
              "Name: count, dtype: int64"
            ]
          },
          "execution_count": 131,
          "metadata": {},
          "output_type": "execute_result"
        }
      ],
      "source": [
        "# unique value Product Category\n",
        "df[\"Product Category\"].value_counts()"
      ]
    },
    {
      "cell_type": "markdown",
      "metadata": {},
      "source": [
        "insight:\n",
        "- produk kategori terbagi menjadi 3 kategori"
      ]
    },
    {
      "cell_type": "code",
      "execution_count": 132,
      "metadata": {},
      "outputs": [
        {
          "data": {
            "text/plain": [
              "Sub Category\n",
              "Tires and Tubes      11112\n",
              "Bottles and Cages     5295\n",
              "Helmets               4176\n",
              "Road Bikes            3022\n",
              "Mountain Bikes        2737\n",
              "Jerseys               2000\n",
              "Caps                  1517\n",
              "Touring Bikes         1334\n",
              "Fenders                762\n",
              "Shorts                 566\n",
              "Cleaners               545\n",
              "Gloves                 480\n",
              "Hydration Packs        396\n",
              "Socks                  364\n",
              "Vests                  312\n",
              "Bike Stands            145\n",
              "Bike Racks             103\n",
              "Name: count, dtype: int64"
            ]
          },
          "execution_count": 132,
          "metadata": {},
          "output_type": "execute_result"
        }
      ],
      "source": [
        "# unique value Sub Category\n",
        "df[\"Sub Category\"].value_counts()"
      ]
    },
    {
      "cell_type": "markdown",
      "metadata": {},
      "source": [
        "insight:\n",
        "- sub kategori berisikan informasi produk turunan dari sub kategori"
      ]
    },
    {
      "cell_type": "code",
      "execution_count": 133,
      "metadata": {},
      "outputs": [
        {
          "data": {
            "text/plain": [
              "Year\n",
              "2016.0    19847\n",
              "2015.0    15019\n",
              "Name: count, dtype: int64"
            ]
          },
          "execution_count": 133,
          "metadata": {},
          "output_type": "execute_result"
        }
      ],
      "source": [
        "# unique value Column1\n",
        "df[\"Year\"].value_counts()"
      ]
    },
    {
      "cell_type": "markdown",
      "metadata": {},
      "source": [
        "insight:\n",
        "- informasi pada Column1 tidak diketahui apa maksudnya"
      ]
    },
    {
      "cell_type": "markdown",
      "metadata": {},
      "source": [
        "tindak lanjut:\n",
        "- drop Column1"
      ]
    },
    {
      "cell_type": "markdown",
      "metadata": {
        "id": "d6dEBoq2hN-H"
      },
      "source": [
        "# 4-Data Cleaning"
      ]
    },
    {
      "cell_type": "code",
      "execution_count": 134,
      "metadata": {},
      "outputs": [],
      "source": [
        "# copy of dataframe named df_cleaned\n",
        "df_cleaned = df.copy()"
      ]
    },
    {
      "cell_type": "markdown",
      "metadata": {
        "id": "mCRpa7rMhTuJ"
      },
      "source": [
        "## 4.1-Columns"
      ]
    },
    {
      "cell_type": "markdown",
      "metadata": {},
      "source": [
        "### 4.1.1-Rename Columns"
      ]
    },
    {
      "cell_type": "code",
      "execution_count": 135,
      "metadata": {},
      "outputs": [
        {
          "data": {
            "text/plain": [
              "Index(['index', 'Date', 'Year', 'Month', 'Customer Age', 'Customer Gender',\n",
              "       'Country', 'State', 'Product Category', 'Sub Category', 'Quantity',\n",
              "       'Unit Cost', 'Unit Price', 'Cost', 'Revenue', 'Column1'],\n",
              "      dtype='object')"
            ]
          },
          "execution_count": 135,
          "metadata": {},
          "output_type": "execute_result"
        }
      ],
      "source": [
        "# show kolom dataframe\n",
        "df_cleaned.columns"
      ]
    },
    {
      "cell_type": "code",
      "execution_count": 136,
      "metadata": {},
      "outputs": [],
      "source": [
        "# rename nama kolom ke lowercase dan mengganti space dengan underscore\n",
        "df_cleaned.columns = df_cleaned.columns.str.lower().str.replace(\" \", \"_\")"
      ]
    },
    {
      "cell_type": "code",
      "execution_count": 137,
      "metadata": {},
      "outputs": [
        {
          "data": {
            "text/plain": [
              "Index(['index', 'date', 'year', 'month', 'customer_age', 'customer_gender',\n",
              "       'country', 'state', 'product_category', 'sub_category', 'quantity',\n",
              "       'unit_cost', 'unit_price', 'cost', 'revenue', 'column1'],\n",
              "      dtype='object')"
            ]
          },
          "execution_count": 137,
          "metadata": {},
          "output_type": "execute_result"
        }
      ],
      "source": [
        "# cek hasil rename\n",
        "df_cleaned.columns"
      ]
    },
    {
      "cell_type": "markdown",
      "metadata": {
        "id": "OYUID6p9qiDq"
      },
      "source": [
        "### 4.1.2-Drop column1 dan index"
      ]
    },
    {
      "cell_type": "code",
      "execution_count": 138,
      "metadata": {
        "id": "uhzdc8SwhYgm"
      },
      "outputs": [],
      "source": [
        "# drop column1 dan index\n",
        "df_cleaned.drop(columns=[\"column1\", \"index\"], inplace=True)"
      ]
    },
    {
      "cell_type": "code",
      "execution_count": 139,
      "metadata": {},
      "outputs": [
        {
          "data": {
            "text/plain": [
              "Index(['date', 'year', 'month', 'customer_age', 'customer_gender', 'country',\n",
              "       'state', 'product_category', 'sub_category', 'quantity', 'unit_cost',\n",
              "       'unit_price', 'cost', 'revenue'],\n",
              "      dtype='object')"
            ]
          },
          "execution_count": 139,
          "metadata": {},
          "output_type": "execute_result"
        }
      ],
      "source": [
        "# cek hasil drop column1 dan index\n",
        "df_cleaned.columns"
      ]
    },
    {
      "cell_type": "markdown",
      "metadata": {},
      "source": [
        "### 4.1.3-Create Column Profit"
      ]
    },
    {
      "cell_type": "code",
      "execution_count": 140,
      "metadata": {},
      "outputs": [],
      "source": [
        "# create column profit\n",
        "df_cleaned[\"profit\"] = df_cleaned[\"revenue\"] - df_cleaned[\"cost\"]"
      ]
    },
    {
      "cell_type": "code",
      "execution_count": 141,
      "metadata": {},
      "outputs": [
        {
          "data": {
            "text/html": [
              "<div>\n",
              "<style scoped>\n",
              "    .dataframe tbody tr th:only-of-type {\n",
              "        vertical-align: middle;\n",
              "    }\n",
              "\n",
              "    .dataframe tbody tr th {\n",
              "        vertical-align: top;\n",
              "    }\n",
              "\n",
              "    .dataframe thead th {\n",
              "        text-align: right;\n",
              "    }\n",
              "</style>\n",
              "<table border=\"1\" class=\"dataframe\">\n",
              "  <thead>\n",
              "    <tr style=\"text-align: right;\">\n",
              "      <th></th>\n",
              "      <th>date</th>\n",
              "      <th>year</th>\n",
              "      <th>month</th>\n",
              "      <th>customer_age</th>\n",
              "      <th>customer_gender</th>\n",
              "      <th>country</th>\n",
              "      <th>state</th>\n",
              "      <th>product_category</th>\n",
              "      <th>sub_category</th>\n",
              "      <th>quantity</th>\n",
              "      <th>unit_cost</th>\n",
              "      <th>unit_price</th>\n",
              "      <th>cost</th>\n",
              "      <th>revenue</th>\n",
              "      <th>profit</th>\n",
              "    </tr>\n",
              "  </thead>\n",
              "  <tbody>\n",
              "    <tr>\n",
              "      <th>0</th>\n",
              "      <td>02/19/16</td>\n",
              "      <td>2016.0</td>\n",
              "      <td>February</td>\n",
              "      <td>29.0</td>\n",
              "      <td>F</td>\n",
              "      <td>United States</td>\n",
              "      <td>Washington</td>\n",
              "      <td>Accessories</td>\n",
              "      <td>Tires and Tubes</td>\n",
              "      <td>1.0</td>\n",
              "      <td>80.00</td>\n",
              "      <td>109.000000</td>\n",
              "      <td>80.0</td>\n",
              "      <td>109.000000</td>\n",
              "      <td>29.0</td>\n",
              "    </tr>\n",
              "    <tr>\n",
              "      <th>1</th>\n",
              "      <td>02/20/16</td>\n",
              "      <td>2016.0</td>\n",
              "      <td>February</td>\n",
              "      <td>29.0</td>\n",
              "      <td>F</td>\n",
              "      <td>United States</td>\n",
              "      <td>Washington</td>\n",
              "      <td>Clothing</td>\n",
              "      <td>Gloves</td>\n",
              "      <td>2.0</td>\n",
              "      <td>24.50</td>\n",
              "      <td>28.500000</td>\n",
              "      <td>49.0</td>\n",
              "      <td>57.000000</td>\n",
              "      <td>8.0</td>\n",
              "    </tr>\n",
              "    <tr>\n",
              "      <th>2</th>\n",
              "      <td>02/27/16</td>\n",
              "      <td>2016.0</td>\n",
              "      <td>February</td>\n",
              "      <td>29.0</td>\n",
              "      <td>F</td>\n",
              "      <td>United States</td>\n",
              "      <td>Washington</td>\n",
              "      <td>Accessories</td>\n",
              "      <td>Tires and Tubes</td>\n",
              "      <td>3.0</td>\n",
              "      <td>3.67</td>\n",
              "      <td>5.000000</td>\n",
              "      <td>11.0</td>\n",
              "      <td>15.000000</td>\n",
              "      <td>4.0</td>\n",
              "    </tr>\n",
              "    <tr>\n",
              "      <th>3</th>\n",
              "      <td>03/12/16</td>\n",
              "      <td>2016.0</td>\n",
              "      <td>March</td>\n",
              "      <td>29.0</td>\n",
              "      <td>F</td>\n",
              "      <td>United States</td>\n",
              "      <td>Washington</td>\n",
              "      <td>Accessories</td>\n",
              "      <td>Tires and Tubes</td>\n",
              "      <td>2.0</td>\n",
              "      <td>87.50</td>\n",
              "      <td>116.500000</td>\n",
              "      <td>175.0</td>\n",
              "      <td>233.000000</td>\n",
              "      <td>58.0</td>\n",
              "    </tr>\n",
              "    <tr>\n",
              "      <th>4</th>\n",
              "      <td>03/12/16</td>\n",
              "      <td>2016.0</td>\n",
              "      <td>March</td>\n",
              "      <td>29.0</td>\n",
              "      <td>F</td>\n",
              "      <td>United States</td>\n",
              "      <td>Washington</td>\n",
              "      <td>Accessories</td>\n",
              "      <td>Tires and Tubes</td>\n",
              "      <td>3.0</td>\n",
              "      <td>35.00</td>\n",
              "      <td>41.666667</td>\n",
              "      <td>105.0</td>\n",
              "      <td>125.000000</td>\n",
              "      <td>20.0</td>\n",
              "    </tr>\n",
              "    <tr>\n",
              "      <th>...</th>\n",
              "      <td>...</td>\n",
              "      <td>...</td>\n",
              "      <td>...</td>\n",
              "      <td>...</td>\n",
              "      <td>...</td>\n",
              "      <td>...</td>\n",
              "      <td>...</td>\n",
              "      <td>...</td>\n",
              "      <td>...</td>\n",
              "      <td>...</td>\n",
              "      <td>...</td>\n",
              "      <td>...</td>\n",
              "      <td>...</td>\n",
              "      <td>...</td>\n",
              "      <td>...</td>\n",
              "    </tr>\n",
              "    <tr>\n",
              "      <th>34862</th>\n",
              "      <td>02/07/16</td>\n",
              "      <td>2016.0</td>\n",
              "      <td>February</td>\n",
              "      <td>38.0</td>\n",
              "      <td>M</td>\n",
              "      <td>France</td>\n",
              "      <td>Hauts de Seine</td>\n",
              "      <td>Bikes</td>\n",
              "      <td>Mountain Bikes</td>\n",
              "      <td>2.0</td>\n",
              "      <td>1160.00</td>\n",
              "      <td>985.500000</td>\n",
              "      <td>2320.0</td>\n",
              "      <td>1971.000000</td>\n",
              "      <td>-349.0</td>\n",
              "    </tr>\n",
              "    <tr>\n",
              "      <th>34863</th>\n",
              "      <td>03/13/15</td>\n",
              "      <td>2015.0</td>\n",
              "      <td>March</td>\n",
              "      <td>38.0</td>\n",
              "      <td>M</td>\n",
              "      <td>France</td>\n",
              "      <td>Hauts de Seine</td>\n",
              "      <td>Bikes</td>\n",
              "      <td>Mountain Bikes</td>\n",
              "      <td>1.0</td>\n",
              "      <td>2049.00</td>\n",
              "      <td>1583.000000</td>\n",
              "      <td>2049.0</td>\n",
              "      <td>1583.000000</td>\n",
              "      <td>-466.0</td>\n",
              "    </tr>\n",
              "    <tr>\n",
              "      <th>34864</th>\n",
              "      <td>04/05/15</td>\n",
              "      <td>2015.0</td>\n",
              "      <td>April</td>\n",
              "      <td>38.0</td>\n",
              "      <td>M</td>\n",
              "      <td>France</td>\n",
              "      <td>Hauts de Seine</td>\n",
              "      <td>Bikes</td>\n",
              "      <td>Mountain Bikes</td>\n",
              "      <td>3.0</td>\n",
              "      <td>683.00</td>\n",
              "      <td>560.666667</td>\n",
              "      <td>2049.0</td>\n",
              "      <td>1682.000000</td>\n",
              "      <td>-367.0</td>\n",
              "    </tr>\n",
              "    <tr>\n",
              "      <th>34865</th>\n",
              "      <td>08/30/15</td>\n",
              "      <td>2015.0</td>\n",
              "      <td>August</td>\n",
              "      <td>38.0</td>\n",
              "      <td>M</td>\n",
              "      <td>France</td>\n",
              "      <td>Hauts de Seine</td>\n",
              "      <td>Bikes</td>\n",
              "      <td>Mountain Bikes</td>\n",
              "      <td>1.0</td>\n",
              "      <td>2320.00</td>\n",
              "      <td>1568.000000</td>\n",
              "      <td>2320.0</td>\n",
              "      <td>1568.000000</td>\n",
              "      <td>-752.0</td>\n",
              "    </tr>\n",
              "    <tr>\n",
              "      <th>34866</th>\n",
              "      <td>NaN</td>\n",
              "      <td>NaN</td>\n",
              "      <td>NaN</td>\n",
              "      <td>NaN</td>\n",
              "      <td>NaN</td>\n",
              "      <td>NaN</td>\n",
              "      <td>NaN</td>\n",
              "      <td>NaN</td>\n",
              "      <td>NaN</td>\n",
              "      <td>NaN</td>\n",
              "      <td>NaN</td>\n",
              "      <td>NaN</td>\n",
              "      <td>NaN</td>\n",
              "      <td>641.532095</td>\n",
              "      <td>NaN</td>\n",
              "    </tr>\n",
              "  </tbody>\n",
              "</table>\n",
              "<p>34867 rows × 15 columns</p>\n",
              "</div>"
            ],
            "text/plain": [
              "           date    year     month  customer_age customer_gender  \\\n",
              "0      02/19/16  2016.0  February          29.0               F   \n",
              "1      02/20/16  2016.0  February          29.0               F   \n",
              "2      02/27/16  2016.0  February          29.0               F   \n",
              "3      03/12/16  2016.0     March          29.0               F   \n",
              "4      03/12/16  2016.0     March          29.0               F   \n",
              "...         ...     ...       ...           ...             ...   \n",
              "34862  02/07/16  2016.0  February          38.0               M   \n",
              "34863  03/13/15  2015.0     March          38.0               M   \n",
              "34864  04/05/15  2015.0     April          38.0               M   \n",
              "34865  08/30/15  2015.0    August          38.0               M   \n",
              "34866       NaN     NaN       NaN           NaN             NaN   \n",
              "\n",
              "             country           state product_category     sub_category  \\\n",
              "0      United States      Washington      Accessories  Tires and Tubes   \n",
              "1      United States      Washington         Clothing           Gloves   \n",
              "2      United States      Washington      Accessories  Tires and Tubes   \n",
              "3      United States      Washington      Accessories  Tires and Tubes   \n",
              "4      United States      Washington      Accessories  Tires and Tubes   \n",
              "...              ...             ...              ...              ...   \n",
              "34862         France  Hauts de Seine            Bikes   Mountain Bikes   \n",
              "34863         France  Hauts de Seine            Bikes   Mountain Bikes   \n",
              "34864         France  Hauts de Seine            Bikes   Mountain Bikes   \n",
              "34865         France  Hauts de Seine            Bikes   Mountain Bikes   \n",
              "34866            NaN             NaN              NaN              NaN   \n",
              "\n",
              "       quantity  unit_cost   unit_price    cost      revenue  profit  \n",
              "0           1.0      80.00   109.000000    80.0   109.000000    29.0  \n",
              "1           2.0      24.50    28.500000    49.0    57.000000     8.0  \n",
              "2           3.0       3.67     5.000000    11.0    15.000000     4.0  \n",
              "3           2.0      87.50   116.500000   175.0   233.000000    58.0  \n",
              "4           3.0      35.00    41.666667   105.0   125.000000    20.0  \n",
              "...         ...        ...          ...     ...          ...     ...  \n",
              "34862       2.0    1160.00   985.500000  2320.0  1971.000000  -349.0  \n",
              "34863       1.0    2049.00  1583.000000  2049.0  1583.000000  -466.0  \n",
              "34864       3.0     683.00   560.666667  2049.0  1682.000000  -367.0  \n",
              "34865       1.0    2320.00  1568.000000  2320.0  1568.000000  -752.0  \n",
              "34866       NaN        NaN          NaN     NaN   641.532095     NaN  \n",
              "\n",
              "[34867 rows x 15 columns]"
            ]
          },
          "execution_count": 141,
          "metadata": {},
          "output_type": "execute_result"
        }
      ],
      "source": [
        "# cek hasil create column profit\n",
        "df_cleaned"
      ]
    },
    {
      "cell_type": "markdown",
      "metadata": {},
      "source": [
        "## 4.2-Cleaning Missing Values"
      ]
    },
    {
      "cell_type": "code",
      "execution_count": 142,
      "metadata": {},
      "outputs": [],
      "source": [
        "# drop missing value\n",
        "df_cleaned = df_cleaned.dropna()\n",
        "\n",
        "# reset index setelah drop kolom\n",
        "df_cleaned.reset_index(drop=True, inplace=True)"
      ]
    },
    {
      "cell_type": "code",
      "execution_count": 143,
      "metadata": {},
      "outputs": [
        {
          "data": {
            "text/plain": [
              "date                0\n",
              "year                0\n",
              "month               0\n",
              "customer_age        0\n",
              "customer_gender     0\n",
              "country             0\n",
              "state               0\n",
              "product_category    0\n",
              "sub_category        0\n",
              "quantity            0\n",
              "unit_cost           0\n",
              "unit_price          0\n",
              "cost                0\n",
              "revenue             0\n",
              "profit              0\n",
              "dtype: int64"
            ]
          },
          "execution_count": 143,
          "metadata": {},
          "output_type": "execute_result"
        }
      ],
      "source": [
        "# cek hasil drop missing value\n",
        "df_cleaned.isnull().sum()"
      ]
    },
    {
      "cell_type": "markdown",
      "metadata": {},
      "source": [
        "insight:\n",
        "- sudah tidak ditemukan missing value"
      ]
    },
    {
      "cell_type": "markdown",
      "metadata": {
        "id": "mexJ8tSohY8J"
      },
      "source": [
        "## 4.3-Inconsistent Type"
      ]
    },
    {
      "cell_type": "code",
      "execution_count": 144,
      "metadata": {},
      "outputs": [
        {
          "name": "stdout",
          "output_type": "stream",
          "text": [
            "<class 'pandas.core.frame.DataFrame'>\n",
            "RangeIndex: 34866 entries, 0 to 34865\n",
            "Data columns (total 15 columns):\n",
            " #   Column            Non-Null Count  Dtype  \n",
            "---  ------            --------------  -----  \n",
            " 0   date              34866 non-null  object \n",
            " 1   year              34866 non-null  float64\n",
            " 2   month             34866 non-null  object \n",
            " 3   customer_age      34866 non-null  float64\n",
            " 4   customer_gender   34866 non-null  object \n",
            " 5   country           34866 non-null  object \n",
            " 6   state             34866 non-null  object \n",
            " 7   product_category  34866 non-null  object \n",
            " 8   sub_category      34866 non-null  object \n",
            " 9   quantity          34866 non-null  float64\n",
            " 10  unit_cost         34866 non-null  float64\n",
            " 11  unit_price        34866 non-null  float64\n",
            " 12  cost              34866 non-null  float64\n",
            " 13  revenue           34866 non-null  float64\n",
            " 14  profit            34866 non-null  float64\n",
            "dtypes: float64(8), object(7)\n",
            "memory usage: 4.0+ MB\n"
          ]
        }
      ],
      "source": [
        "# df_cleaned info\n",
        "df_cleaned.info()"
      ]
    },
    {
      "cell_type": "markdown",
      "metadata": {},
      "source": [
        "### 4.3.1- Changing Date to date"
      ]
    },
    {
      "cell_type": "code",
      "execution_count": 169,
      "metadata": {},
      "outputs": [],
      "source": [
        "# mengubah kolom date ke tipe date\n",
        "df_cleaned[\"date\"] = pd.to_datetime(df_cleaned[\"date\"], format=\"%m/%d/%y\", errors=\"coerce\")"
      ]
    },
    {
      "cell_type": "markdown",
      "metadata": {},
      "source": [
        "### 4.3.2- Changing Year, Customer Age and Quantity to int"
      ]
    },
    {
      "cell_type": "code",
      "execution_count": 170,
      "metadata": {},
      "outputs": [],
      "source": [
        "# mengubah kolom year, customer_age dan quantity ke tipe integer\n",
        "col_int = [\"year\", \"customer_age\", \"quantity\"]\n",
        "\n",
        "# loop ubah col_int ke tipe integer\n",
        "for col in col_int:\n",
        "    df_cleaned[col] = df_cleaned[col].astype(\"Int64\", errors=\"ignore\")"
      ]
    },
    {
      "cell_type": "code",
      "execution_count": 147,
      "metadata": {},
      "outputs": [
        {
          "name": "stdout",
          "output_type": "stream",
          "text": [
            "<class 'pandas.core.frame.DataFrame'>\n",
            "RangeIndex: 34866 entries, 0 to 34865\n",
            "Data columns (total 15 columns):\n",
            " #   Column            Non-Null Count  Dtype         \n",
            "---  ------            --------------  -----         \n",
            " 0   date              34866 non-null  datetime64[ns]\n",
            " 1   year              34866 non-null  Int64         \n",
            " 2   month             34866 non-null  object        \n",
            " 3   customer_age      34866 non-null  Int64         \n",
            " 4   customer_gender   34866 non-null  object        \n",
            " 5   country           34866 non-null  object        \n",
            " 6   state             34866 non-null  object        \n",
            " 7   product_category  34866 non-null  object        \n",
            " 8   sub_category      34866 non-null  object        \n",
            " 9   quantity          34866 non-null  Int64         \n",
            " 10  unit_cost         34866 non-null  float64       \n",
            " 11  unit_price        34866 non-null  float64       \n",
            " 12  cost              34866 non-null  float64       \n",
            " 13  revenue           34866 non-null  float64       \n",
            " 14  profit            34866 non-null  float64       \n",
            "dtypes: Int64(3), datetime64[ns](1), float64(5), object(6)\n",
            "memory usage: 4.1+ MB\n"
          ]
        }
      ],
      "source": [
        "# df_cleaned info\n",
        "df_cleaned.info()"
      ]
    },
    {
      "cell_type": "markdown",
      "metadata": {
        "id": "nwOG04v9rv1N"
      },
      "source": [
        "## 4.4- Save Data"
      ]
    },
    {
      "cell_type": "code",
      "execution_count": 148,
      "metadata": {
        "id": "xDA3bLx7rz2n"
      },
      "outputs": [
        {
          "data": {
            "text/html": [
              "<div>\n",
              "<style scoped>\n",
              "    .dataframe tbody tr th:only-of-type {\n",
              "        vertical-align: middle;\n",
              "    }\n",
              "\n",
              "    .dataframe tbody tr th {\n",
              "        vertical-align: top;\n",
              "    }\n",
              "\n",
              "    .dataframe thead th {\n",
              "        text-align: right;\n",
              "    }\n",
              "</style>\n",
              "<table border=\"1\" class=\"dataframe\">\n",
              "  <thead>\n",
              "    <tr style=\"text-align: right;\">\n",
              "      <th></th>\n",
              "      <th>date</th>\n",
              "      <th>year</th>\n",
              "      <th>month</th>\n",
              "      <th>customer_age</th>\n",
              "      <th>customer_gender</th>\n",
              "      <th>country</th>\n",
              "      <th>state</th>\n",
              "      <th>product_category</th>\n",
              "      <th>sub_category</th>\n",
              "      <th>quantity</th>\n",
              "      <th>unit_cost</th>\n",
              "      <th>unit_price</th>\n",
              "      <th>cost</th>\n",
              "      <th>revenue</th>\n",
              "      <th>profit</th>\n",
              "    </tr>\n",
              "  </thead>\n",
              "  <tbody>\n",
              "    <tr>\n",
              "      <th>0</th>\n",
              "      <td>2016-02-19</td>\n",
              "      <td>2016</td>\n",
              "      <td>February</td>\n",
              "      <td>29</td>\n",
              "      <td>F</td>\n",
              "      <td>United States</td>\n",
              "      <td>Washington</td>\n",
              "      <td>Accessories</td>\n",
              "      <td>Tires and Tubes</td>\n",
              "      <td>1</td>\n",
              "      <td>80.00</td>\n",
              "      <td>109.000000</td>\n",
              "      <td>80.0</td>\n",
              "      <td>109.0</td>\n",
              "      <td>29.0</td>\n",
              "    </tr>\n",
              "    <tr>\n",
              "      <th>1</th>\n",
              "      <td>2016-02-20</td>\n",
              "      <td>2016</td>\n",
              "      <td>February</td>\n",
              "      <td>29</td>\n",
              "      <td>F</td>\n",
              "      <td>United States</td>\n",
              "      <td>Washington</td>\n",
              "      <td>Clothing</td>\n",
              "      <td>Gloves</td>\n",
              "      <td>2</td>\n",
              "      <td>24.50</td>\n",
              "      <td>28.500000</td>\n",
              "      <td>49.0</td>\n",
              "      <td>57.0</td>\n",
              "      <td>8.0</td>\n",
              "    </tr>\n",
              "    <tr>\n",
              "      <th>2</th>\n",
              "      <td>2016-02-27</td>\n",
              "      <td>2016</td>\n",
              "      <td>February</td>\n",
              "      <td>29</td>\n",
              "      <td>F</td>\n",
              "      <td>United States</td>\n",
              "      <td>Washington</td>\n",
              "      <td>Accessories</td>\n",
              "      <td>Tires and Tubes</td>\n",
              "      <td>3</td>\n",
              "      <td>3.67</td>\n",
              "      <td>5.000000</td>\n",
              "      <td>11.0</td>\n",
              "      <td>15.0</td>\n",
              "      <td>4.0</td>\n",
              "    </tr>\n",
              "    <tr>\n",
              "      <th>3</th>\n",
              "      <td>2016-03-12</td>\n",
              "      <td>2016</td>\n",
              "      <td>March</td>\n",
              "      <td>29</td>\n",
              "      <td>F</td>\n",
              "      <td>United States</td>\n",
              "      <td>Washington</td>\n",
              "      <td>Accessories</td>\n",
              "      <td>Tires and Tubes</td>\n",
              "      <td>2</td>\n",
              "      <td>87.50</td>\n",
              "      <td>116.500000</td>\n",
              "      <td>175.0</td>\n",
              "      <td>233.0</td>\n",
              "      <td>58.0</td>\n",
              "    </tr>\n",
              "    <tr>\n",
              "      <th>4</th>\n",
              "      <td>2016-03-12</td>\n",
              "      <td>2016</td>\n",
              "      <td>March</td>\n",
              "      <td>29</td>\n",
              "      <td>F</td>\n",
              "      <td>United States</td>\n",
              "      <td>Washington</td>\n",
              "      <td>Accessories</td>\n",
              "      <td>Tires and Tubes</td>\n",
              "      <td>3</td>\n",
              "      <td>35.00</td>\n",
              "      <td>41.666667</td>\n",
              "      <td>105.0</td>\n",
              "      <td>125.0</td>\n",
              "      <td>20.0</td>\n",
              "    </tr>\n",
              "    <tr>\n",
              "      <th>...</th>\n",
              "      <td>...</td>\n",
              "      <td>...</td>\n",
              "      <td>...</td>\n",
              "      <td>...</td>\n",
              "      <td>...</td>\n",
              "      <td>...</td>\n",
              "      <td>...</td>\n",
              "      <td>...</td>\n",
              "      <td>...</td>\n",
              "      <td>...</td>\n",
              "      <td>...</td>\n",
              "      <td>...</td>\n",
              "      <td>...</td>\n",
              "      <td>...</td>\n",
              "      <td>...</td>\n",
              "    </tr>\n",
              "    <tr>\n",
              "      <th>34861</th>\n",
              "      <td>2015-03-22</td>\n",
              "      <td>2015</td>\n",
              "      <td>March</td>\n",
              "      <td>38</td>\n",
              "      <td>M</td>\n",
              "      <td>France</td>\n",
              "      <td>Charente-Maritime</td>\n",
              "      <td>Bikes</td>\n",
              "      <td>Mountain Bikes</td>\n",
              "      <td>1</td>\n",
              "      <td>2049.00</td>\n",
              "      <td>1487.000000</td>\n",
              "      <td>2049.0</td>\n",
              "      <td>1487.0</td>\n",
              "      <td>-562.0</td>\n",
              "    </tr>\n",
              "    <tr>\n",
              "      <th>34862</th>\n",
              "      <td>2016-02-07</td>\n",
              "      <td>2016</td>\n",
              "      <td>February</td>\n",
              "      <td>38</td>\n",
              "      <td>M</td>\n",
              "      <td>France</td>\n",
              "      <td>Hauts de Seine</td>\n",
              "      <td>Bikes</td>\n",
              "      <td>Mountain Bikes</td>\n",
              "      <td>2</td>\n",
              "      <td>1160.00</td>\n",
              "      <td>985.500000</td>\n",
              "      <td>2320.0</td>\n",
              "      <td>1971.0</td>\n",
              "      <td>-349.0</td>\n",
              "    </tr>\n",
              "    <tr>\n",
              "      <th>34863</th>\n",
              "      <td>2015-03-13</td>\n",
              "      <td>2015</td>\n",
              "      <td>March</td>\n",
              "      <td>38</td>\n",
              "      <td>M</td>\n",
              "      <td>France</td>\n",
              "      <td>Hauts de Seine</td>\n",
              "      <td>Bikes</td>\n",
              "      <td>Mountain Bikes</td>\n",
              "      <td>1</td>\n",
              "      <td>2049.00</td>\n",
              "      <td>1583.000000</td>\n",
              "      <td>2049.0</td>\n",
              "      <td>1583.0</td>\n",
              "      <td>-466.0</td>\n",
              "    </tr>\n",
              "    <tr>\n",
              "      <th>34864</th>\n",
              "      <td>2015-04-05</td>\n",
              "      <td>2015</td>\n",
              "      <td>April</td>\n",
              "      <td>38</td>\n",
              "      <td>M</td>\n",
              "      <td>France</td>\n",
              "      <td>Hauts de Seine</td>\n",
              "      <td>Bikes</td>\n",
              "      <td>Mountain Bikes</td>\n",
              "      <td>3</td>\n",
              "      <td>683.00</td>\n",
              "      <td>560.666667</td>\n",
              "      <td>2049.0</td>\n",
              "      <td>1682.0</td>\n",
              "      <td>-367.0</td>\n",
              "    </tr>\n",
              "    <tr>\n",
              "      <th>34865</th>\n",
              "      <td>2015-08-30</td>\n",
              "      <td>2015</td>\n",
              "      <td>August</td>\n",
              "      <td>38</td>\n",
              "      <td>M</td>\n",
              "      <td>France</td>\n",
              "      <td>Hauts de Seine</td>\n",
              "      <td>Bikes</td>\n",
              "      <td>Mountain Bikes</td>\n",
              "      <td>1</td>\n",
              "      <td>2320.00</td>\n",
              "      <td>1568.000000</td>\n",
              "      <td>2320.0</td>\n",
              "      <td>1568.0</td>\n",
              "      <td>-752.0</td>\n",
              "    </tr>\n",
              "  </tbody>\n",
              "</table>\n",
              "<p>34866 rows × 15 columns</p>\n",
              "</div>"
            ],
            "text/plain": [
              "            date  year     month  customer_age customer_gender        country  \\\n",
              "0     2016-02-19  2016  February            29               F  United States   \n",
              "1     2016-02-20  2016  February            29               F  United States   \n",
              "2     2016-02-27  2016  February            29               F  United States   \n",
              "3     2016-03-12  2016     March            29               F  United States   \n",
              "4     2016-03-12  2016     March            29               F  United States   \n",
              "...          ...   ...       ...           ...             ...            ...   \n",
              "34861 2015-03-22  2015     March            38               M         France   \n",
              "34862 2016-02-07  2016  February            38               M         France   \n",
              "34863 2015-03-13  2015     March            38               M         France   \n",
              "34864 2015-04-05  2015     April            38               M         France   \n",
              "34865 2015-08-30  2015    August            38               M         France   \n",
              "\n",
              "                   state product_category     sub_category  quantity  \\\n",
              "0             Washington      Accessories  Tires and Tubes         1   \n",
              "1             Washington         Clothing           Gloves         2   \n",
              "2             Washington      Accessories  Tires and Tubes         3   \n",
              "3             Washington      Accessories  Tires and Tubes         2   \n",
              "4             Washington      Accessories  Tires and Tubes         3   \n",
              "...                  ...              ...              ...       ...   \n",
              "34861  Charente-Maritime            Bikes   Mountain Bikes         1   \n",
              "34862     Hauts de Seine            Bikes   Mountain Bikes         2   \n",
              "34863     Hauts de Seine            Bikes   Mountain Bikes         1   \n",
              "34864     Hauts de Seine            Bikes   Mountain Bikes         3   \n",
              "34865     Hauts de Seine            Bikes   Mountain Bikes         1   \n",
              "\n",
              "       unit_cost   unit_price    cost  revenue  profit  \n",
              "0          80.00   109.000000    80.0    109.0    29.0  \n",
              "1          24.50    28.500000    49.0     57.0     8.0  \n",
              "2           3.67     5.000000    11.0     15.0     4.0  \n",
              "3          87.50   116.500000   175.0    233.0    58.0  \n",
              "4          35.00    41.666667   105.0    125.0    20.0  \n",
              "...          ...          ...     ...      ...     ...  \n",
              "34861    2049.00  1487.000000  2049.0   1487.0  -562.0  \n",
              "34862    1160.00   985.500000  2320.0   1971.0  -349.0  \n",
              "34863    2049.00  1583.000000  2049.0   1583.0  -466.0  \n",
              "34864     683.00   560.666667  2049.0   1682.0  -367.0  \n",
              "34865    2320.00  1568.000000  2320.0   1568.0  -752.0  \n",
              "\n",
              "[34866 rows x 15 columns]"
            ]
          },
          "execution_count": 148,
          "metadata": {},
          "output_type": "execute_result"
        }
      ],
      "source": [
        "# show df_cleaned\n",
        "df_cleaned"
      ]
    },
    {
      "cell_type": "code",
      "execution_count": 171,
      "metadata": {},
      "outputs": [],
      "source": [
        "# export df_cleaned to csv\n",
        "df_cleaned.to_csv(\"df_cleaned.csv\", index=False)"
      ]
    },
    {
      "cell_type": "markdown",
      "metadata": {
        "id": "3onm7SUrhij_"
      },
      "source": [
        "# 5-EDA"
      ]
    },
    {
      "cell_type": "code",
      "execution_count": 150,
      "metadata": {},
      "outputs": [
        {
          "name": "stdout",
          "output_type": "stream",
          "text": [
            "<class 'pandas.core.frame.DataFrame'>\n",
            "RangeIndex: 34866 entries, 0 to 34865\n",
            "Data columns (total 15 columns):\n",
            " #   Column            Non-Null Count  Dtype         \n",
            "---  ------            --------------  -----         \n",
            " 0   date              34866 non-null  datetime64[ns]\n",
            " 1   year              34866 non-null  Int64         \n",
            " 2   month             34866 non-null  object        \n",
            " 3   customer_age      34866 non-null  Int64         \n",
            " 4   customer_gender   34866 non-null  object        \n",
            " 5   country           34866 non-null  object        \n",
            " 6   state             34866 non-null  object        \n",
            " 7   product_category  34866 non-null  object        \n",
            " 8   sub_category      34866 non-null  object        \n",
            " 9   quantity          34866 non-null  Int64         \n",
            " 10  unit_cost         34866 non-null  float64       \n",
            " 11  unit_price        34866 non-null  float64       \n",
            " 12  cost              34866 non-null  float64       \n",
            " 13  revenue           34866 non-null  float64       \n",
            " 14  profit            34866 non-null  float64       \n",
            "dtypes: Int64(3), datetime64[ns](1), float64(5), object(6)\n",
            "memory usage: 4.1+ MB\n"
          ]
        }
      ],
      "source": [
        "df_cleaned.info()"
      ]
    },
    {
      "cell_type": "markdown",
      "metadata": {
        "id": "JZ5tJ7sThm9A"
      },
      "source": [
        "## 5.1-Profit per Kategori"
      ]
    },
    {
      "cell_type": "code",
      "execution_count": 151,
      "metadata": {},
      "outputs": [
        {
          "data": {
            "text/html": [
              "<div>\n",
              "<style scoped>\n",
              "    .dataframe tbody tr th:only-of-type {\n",
              "        vertical-align: middle;\n",
              "    }\n",
              "\n",
              "    .dataframe tbody tr th {\n",
              "        vertical-align: top;\n",
              "    }\n",
              "\n",
              "    .dataframe thead th {\n",
              "        text-align: right;\n",
              "    }\n",
              "</style>\n",
              "<table border=\"1\" class=\"dataframe\">\n",
              "  <thead>\n",
              "    <tr style=\"text-align: right;\">\n",
              "      <th></th>\n",
              "      <th>profit_per_category</th>\n",
              "      <th>percentage_total_profit</th>\n",
              "    </tr>\n",
              "    <tr>\n",
              "      <th>product_category</th>\n",
              "      <th></th>\n",
              "      <th></th>\n",
              "    </tr>\n",
              "  </thead>\n",
              "  <tbody>\n",
              "    <tr>\n",
              "      <th>Accessories</th>\n",
              "      <td>1378769.0</td>\n",
              "      <td>60.96</td>\n",
              "    </tr>\n",
              "    <tr>\n",
              "      <th>Clothing</th>\n",
              "      <td>545232.0</td>\n",
              "      <td>24.11</td>\n",
              "    </tr>\n",
              "    <tr>\n",
              "      <th>Bikes</th>\n",
              "      <td>337601.0</td>\n",
              "      <td>14.93</td>\n",
              "    </tr>\n",
              "  </tbody>\n",
              "</table>\n",
              "</div>"
            ],
            "text/plain": [
              "                  profit_per_category  percentage_total_profit\n",
              "product_category                                              \n",
              "Accessories                 1378769.0                    60.96\n",
              "Clothing                     545232.0                    24.11\n",
              "Bikes                        337601.0                    14.93"
            ]
          },
          "execution_count": 151,
          "metadata": {},
          "output_type": "execute_result"
        }
      ],
      "source": [
        "# profit per kategori\n",
        "profit_per_category = df_cleaned.groupby(\"product_category\")[\"profit\"].sum().sort_values(ascending=False)\n",
        "\n",
        "# persentase profit per kategori\n",
        "persentase_profit_per_category = profit_per_category / df_cleaned[\"profit\"].sum() * 100\n",
        "\n",
        "# show profit per kategori dan persentasenya\n",
        "df_profit_per_category = pd.DataFrame({\n",
        "    \"profit_per_category\": profit_per_category,\n",
        "    \"percentage_total_profit\": persentase_profit_per_category.round(2)\n",
        "})\n",
        "\n",
        "df_profit_per_category"
      ]
    },
    {
      "cell_type": "markdown",
      "metadata": {
        "id": "WC2RC0WundwS"
      },
      "source": [
        "insight:\n",
        "- kateogri produk dengan profit tertinggi adalah Accessories, dengan persentase 60.96% dari total profit\n",
        "- kategori produk dengan profit terendah adalah Bikes, dengan persentase 14.93% dari total profit"
      ]
    },
    {
      "cell_type": "code",
      "execution_count": 152,
      "metadata": {},
      "outputs": [
        {
          "data": {
            "text/plain": [
              "(-1.0999989919861517,\n",
              " 1.0999959428446218,\n",
              " -1.0999985137373263,\n",
              " 1.099999929225587)"
            ]
          },
          "execution_count": 152,
          "metadata": {},
          "output_type": "execute_result"
        },
        {
          "data": {
            "image/png": "[encoded data removed]",
            "text/plain": [
              "<Figure size 1500x500 with 1 Axes>"
            ]
          },
          "metadata": {},
          "output_type": "display_data"
        }
      ],
      "source": [
        "# figure\n",
        "plt.figure(figsize=(15, 5))\n",
        "\n",
        "# pie chart data profit per kategori\n",
        "plt.pie(df_profit_per_category[\"profit_per_category\"], labels=df_profit_per_category.index, autopct=\"%1.1f%%\", startangle=90)\n",
        "\n",
        "# judul plot\n",
        "plt.title(\"Profit per Category\")\n",
        "\n",
        "# axis equal untuk lingkaran\n",
        "plt.axis(\"equal\")"
      ]
    },
    {
      "cell_type": "markdown",
      "metadata": {},
      "source": [
        "insight:\n",
        "- Accessories mendominasi profit dengan persentase 61.0%\n",
        "- Bikes memiliki profit paling rendah dengan persentase 14.9%"
      ]
    },
    {
      "cell_type": "markdown",
      "metadata": {
        "id": "pSAMgp6-hsPZ"
      },
      "source": [
        "## 5.2-Profit Trend"
      ]
    },
    {
      "cell_type": "code",
      "execution_count": 153,
      "metadata": {
        "id": "v3K0OL7Lhz_I"
      },
      "outputs": [
        {
          "data": {
            "text/html": [
              "<div>\n",
              "<style scoped>\n",
              "    .dataframe tbody tr th:only-of-type {\n",
              "        vertical-align: middle;\n",
              "    }\n",
              "\n",
              "    .dataframe tbody tr th {\n",
              "        vertical-align: top;\n",
              "    }\n",
              "\n",
              "    .dataframe thead th {\n",
              "        text-align: right;\n",
              "    }\n",
              "</style>\n",
              "<table border=\"1\" class=\"dataframe\">\n",
              "  <thead>\n",
              "    <tr style=\"text-align: right;\">\n",
              "      <th></th>\n",
              "      <th></th>\n",
              "      <th>profit</th>\n",
              "    </tr>\n",
              "    <tr>\n",
              "      <th>date</th>\n",
              "      <th>date</th>\n",
              "      <th></th>\n",
              "    </tr>\n",
              "  </thead>\n",
              "  <tbody>\n",
              "    <tr>\n",
              "      <th rowspan=\"12\" valign=\"top\">2015</th>\n",
              "      <th>1</th>\n",
              "      <td>-5779.0</td>\n",
              "    </tr>\n",
              "    <tr>\n",
              "      <th>2</th>\n",
              "      <td>-4080.0</td>\n",
              "    </tr>\n",
              "    <tr>\n",
              "      <th>3</th>\n",
              "      <td>-8164.0</td>\n",
              "    </tr>\n",
              "    <tr>\n",
              "      <th>4</th>\n",
              "      <td>-4946.0</td>\n",
              "    </tr>\n",
              "    <tr>\n",
              "      <th>5</th>\n",
              "      <td>-7802.0</td>\n",
              "    </tr>\n",
              "    <tr>\n",
              "      <th>6</th>\n",
              "      <td>-8691.0</td>\n",
              "    </tr>\n",
              "    <tr>\n",
              "      <th>7</th>\n",
              "      <td>15104.0</td>\n",
              "    </tr>\n",
              "    <tr>\n",
              "      <th>8</th>\n",
              "      <td>65926.0</td>\n",
              "    </tr>\n",
              "    <tr>\n",
              "      <th>9</th>\n",
              "      <td>62172.0</td>\n",
              "    </tr>\n",
              "    <tr>\n",
              "      <th>10</th>\n",
              "      <td>62951.0</td>\n",
              "    </tr>\n",
              "    <tr>\n",
              "      <th>11</th>\n",
              "      <td>54481.0</td>\n",
              "    </tr>\n",
              "    <tr>\n",
              "      <th>12</th>\n",
              "      <td>67448.0</td>\n",
              "    </tr>\n",
              "    <tr>\n",
              "      <th rowspan=\"7\" valign=\"top\">2016</th>\n",
              "      <th>1</th>\n",
              "      <td>280204.0</td>\n",
              "    </tr>\n",
              "    <tr>\n",
              "      <th>2</th>\n",
              "      <td>263640.0</td>\n",
              "    </tr>\n",
              "    <tr>\n",
              "      <th>3</th>\n",
              "      <td>299777.0</td>\n",
              "    </tr>\n",
              "    <tr>\n",
              "      <th>4</th>\n",
              "      <td>307746.0</td>\n",
              "    </tr>\n",
              "    <tr>\n",
              "      <th>5</th>\n",
              "      <td>356914.0</td>\n",
              "    </tr>\n",
              "    <tr>\n",
              "      <th>6</th>\n",
              "      <td>357549.0</td>\n",
              "    </tr>\n",
              "    <tr>\n",
              "      <th>7</th>\n",
              "      <td>107152.0</td>\n",
              "    </tr>\n",
              "  </tbody>\n",
              "</table>\n",
              "</div>"
            ],
            "text/plain": [
              "             profit\n",
              "date date          \n",
              "2015 1      -5779.0\n",
              "     2      -4080.0\n",
              "     3      -8164.0\n",
              "     4      -4946.0\n",
              "     5      -7802.0\n",
              "     6      -8691.0\n",
              "     7      15104.0\n",
              "     8      65926.0\n",
              "     9      62172.0\n",
              "     10     62951.0\n",
              "     11     54481.0\n",
              "     12     67448.0\n",
              "2016 1     280204.0\n",
              "     2     263640.0\n",
              "     3     299777.0\n",
              "     4     307746.0\n",
              "     5     356914.0\n",
              "     6     357549.0\n",
              "     7     107152.0"
            ]
          },
          "execution_count": 153,
          "metadata": {},
          "output_type": "execute_result"
        }
      ],
      "source": [
        "# month_num = df_cleaned[\"date\"].dt.month\n",
        "profit_trends = df_cleaned.groupby([df_cleaned[\"date\"].dt.year, df_cleaned[\"date\"].dt.month])[\"profit\"].sum()\n",
        "profit_trends = pd.DataFrame(profit_trends)\n",
        "profit_trends"
      ]
    },
    {
      "cell_type": "markdown",
      "metadata": {},
      "source": [
        "insight:\n",
        "- dilihat secara sepintas profit mengalami kenaikan dari awal tahun 2015 hingga pertengahan tahun 2016\n",
        "- pada awal tahun 2015 sampai dengan pertengahan tahun, mengalami kerugian"
      ]
    },
    {
      "cell_type": "code",
      "execution_count": 154,
      "metadata": {},
      "outputs": [
        {
          "data": {
            "image/png": "[encoded data removed]",
            "text/plain": [
              "<Figure size 1500x600 with 1 Axes>"
            ]
          },
          "metadata": {},
          "output_type": "display_data"
        }
      ],
      "source": [
        "# multi index plt.plot()\n",
        "profit_trends.index = [f\"{year}-{month:02d}\" for year, month in profit_trends.index]\n",
        "\n",
        "# plotting\n",
        "plt.figure(figsize=(15, 6))\n",
        "\n",
        "# plot line profit trend\n",
        "plt.plot(profit_trends.index, profit_trends.values, marker=\"o\")\n",
        "\n",
        "# label\n",
        "plt.xlabel(\"Year and Month\")\n",
        "plt.ylabel(\"Total Profit\")\n",
        "plt.title(\"Profit Trends Over Time\")\n",
        "plt.xticks(rotation=45)\n",
        "\n",
        "# show plot\n",
        "plt.grid(True)\n",
        "plt.show()\n"
      ]
    },
    {
      "cell_type": "markdown",
      "metadata": {},
      "source": [
        "insight:\n",
        "- pada awal tahun 2015 hingga pertengahan, mengalamai kerugian namun meningkat pada bulan berikutnya\n",
        "- secara gambaran besar trend profit relatif naik dari awal tahun 2015 hingga pertengahan 2016 namun mengalami penurunan signifikan pada bulan terakhir"
      ]
    },
    {
      "cell_type": "markdown",
      "metadata": {},
      "source": [
        "## 5.3-Profit per Country"
      ]
    },
    {
      "cell_type": "code",
      "execution_count": 155,
      "metadata": {},
      "outputs": [
        {
          "data": {
            "text/html": [
              "<div>\n",
              "<style scoped>\n",
              "    .dataframe tbody tr th:only-of-type {\n",
              "        vertical-align: middle;\n",
              "    }\n",
              "\n",
              "    .dataframe tbody tr th {\n",
              "        vertical-align: top;\n",
              "    }\n",
              "\n",
              "    .dataframe thead th {\n",
              "        text-align: right;\n",
              "    }\n",
              "</style>\n",
              "<table border=\"1\" class=\"dataframe\">\n",
              "  <thead>\n",
              "    <tr style=\"text-align: right;\">\n",
              "      <th></th>\n",
              "      <th>profit_per_country</th>\n",
              "      <th>percentage_total_profit</th>\n",
              "    </tr>\n",
              "    <tr>\n",
              "      <th>country</th>\n",
              "      <th></th>\n",
              "      <th></th>\n",
              "    </tr>\n",
              "  </thead>\n",
              "  <tbody>\n",
              "    <tr>\n",
              "      <th>Germany</th>\n",
              "      <td>958825.0</td>\n",
              "      <td>42.40</td>\n",
              "    </tr>\n",
              "    <tr>\n",
              "      <th>United States</th>\n",
              "      <td>701165.0</td>\n",
              "      <td>31.00</td>\n",
              "    </tr>\n",
              "    <tr>\n",
              "      <th>United Kingdom</th>\n",
              "      <td>328955.0</td>\n",
              "      <td>14.55</td>\n",
              "    </tr>\n",
              "    <tr>\n",
              "      <th>France</th>\n",
              "      <td>272657.0</td>\n",
              "      <td>12.06</td>\n",
              "    </tr>\n",
              "  </tbody>\n",
              "</table>\n",
              "</div>"
            ],
            "text/plain": [
              "                profit_per_country  percentage_total_profit\n",
              "country                                                    \n",
              "Germany                   958825.0                    42.40\n",
              "United States             701165.0                    31.00\n",
              "United Kingdom            328955.0                    14.55\n",
              "France                    272657.0                    12.06"
            ]
          },
          "execution_count": 155,
          "metadata": {},
          "output_type": "execute_result"
        }
      ],
      "source": [
        "# profit per country\n",
        "profit_per_country = df_cleaned.groupby(\"country\")[\"profit\"].sum().sort_values(ascending=False)\n",
        "\n",
        "# persentase profit per country\n",
        "persentase_profit_per_country = profit_per_country / df_cleaned[\"profit\"].sum() * 100\n",
        "\n",
        "# show profit per country dan persentasenya\n",
        "df_profit_per_country = pd.DataFrame({\n",
        "    \"profit_per_country\": profit_per_country,\n",
        "    \"percentage_total_profit\": persentase_profit_per_country.round(2)\n",
        "})\n",
        "\n",
        "df_profit_per_country"
      ]
    },
    {
      "cell_type": "markdown",
      "metadata": {},
      "source": [
        "insight:\n",
        "- negara Germany paling berkontribusi terhadap profit dengan persentase 42.40% disusul dengan United States 31.00%\n",
        "- negara France berkontribusi paling sedikit dengan persentase 12.06% disusul dengan United Kingdom 14.55%"
      ]
    },
    {
      "cell_type": "code",
      "execution_count": 156,
      "metadata": {},
      "outputs": [
        {
          "data": {
            "image/png": "[encoded data removed]",
            "text/plain": [
              "<Figure size 1500x500 with 1 Axes>"
            ]
          },
          "metadata": {},
          "output_type": "display_data"
        }
      ],
      "source": [
        "# figure\n",
        "plt.figure(figsize=(15, 5))\n",
        "\n",
        "# pie chart data profit per kategori\n",
        "plt.pie(df_profit_per_country[\"profit_per_country\"], labels=df_profit_per_country.index, autopct=\"%1.1f%%\", startangle=90)\n",
        "\n",
        "# label\n",
        "plt.title(\"Profit per Country\")\n",
        "\n",
        "# axis equal untuk lingkaran\n",
        "plt.axis(\"equal\")\n",
        "plt.show()"
      ]
    },
    {
      "cell_type": "markdown",
      "metadata": {},
      "source": [
        "insight:\n",
        "- negara Germany berkontribusi paling tinggi dengan persentase 42.4% dari total profit\n",
        "- nergara France berkontribusi palign rendah dengan persentase 12.1% dari total profit"
      ]
    },
    {
      "cell_type": "markdown",
      "metadata": {},
      "source": [
        "## 5.4-Profit Segmentation"
      ]
    },
    {
      "cell_type": "code",
      "execution_count": 157,
      "metadata": {},
      "outputs": [
        {
          "data": {
            "image/png": "[encoded data removed]",
            "text/plain": [
              "<Figure size 1500x600 with 1 Axes>"
            ]
          },
          "metadata": {},
          "output_type": "display_data"
        }
      ],
      "source": [
        "# plot segmentasi usia dan gender\n",
        "# split male dan female\n",
        "m_profit = df_cleaned[df_cleaned[\"customer_gender\"] == \"M\"][\"profit\"]\n",
        "f_profit = df_cleaned[df_cleaned[\"customer_gender\"] == \"F\"][\"profit\"]\n",
        "\n",
        "# figure\n",
        "plt.figure(figsize=(15, 6))\n",
        "\n",
        "# plotting histogram\n",
        "plt.hist(x = df_cleaned[df_cleaned[\"customer_gender\"] == \"M\"][\"customer_age\"], weights=m_profit, bins=20, alpha=0.5, label=\"Male\", edgecolor=\"black\")\n",
        "plt.hist(x = df_cleaned[df_cleaned[\"customer_gender\"] == \"F\"][\"customer_age\"], weights=f_profit, bins=20, alpha=0.5, label=\"Female\", edgecolor=\"black\")\n",
        "\n",
        "# label\n",
        "plt.xlabel(\"Customer Age\")\n",
        "plt.ylabel(\"Profit\")\n",
        "plt.title(\"Histogram of Profit by Customer Age and Gender\")\n",
        "plt.legend()\n",
        "\n",
        "# show plot\n",
        "plt.grid(True)\n",
        "plt.show()"
      ]
    },
    {
      "cell_type": "markdown",
      "metadata": {},
      "source": [
        "insight:\n",
        "- secara gender male dan female memiliki pola distribusi yang sama dengan male yang memiliki beberapa titik lebih tinggi daripada female\n",
        "- berdasarkan rentang usia, usia >25 sampai dengan <45 lebih potensial untuk menghasilkan profit"
      ]
    },
    {
      "cell_type": "markdown",
      "metadata": {},
      "source": [
        "## 5.5-Korelasi antara Revenue dan Profit"
      ]
    },
    {
      "cell_type": "code",
      "execution_count": 158,
      "metadata": {},
      "outputs": [
        {
          "name": "stdout",
          "output_type": "stream",
          "text": [
            "korelasi antara revenue dan profit = 0.4705112459513543\n",
            "p-value antara revenue dan profit = 0.0\n"
          ]
        }
      ],
      "source": [
        "# korelasi spearmanr revenue dan profit\n",
        "corr_revenue_profit, pval_revenue_profit = stats.spearmanr(df_cleaned[\"revenue\"], df_cleaned[\"profit\"])\n",
        "\n",
        "print(\"korelasi antara revenue dan profit =\", corr_revenue_profit)\n",
        "print(\"p-value antara revenue dan profit =\", pval_revenue_profit)"
      ]
    },
    {
      "cell_type": "markdown",
      "metadata": {},
      "source": [
        "insight:\n",
        "- nilai korelasi 0.47 menunjukan bahwa ada korelasi positif antara revenue dan profit dengan kecenderungan jika revenue meningkat, profit akan meningkat begitu juga sebaliknya\n",
        "- p-value 0 menunjukan bahwa korelasi yang ditemukan bukan dari hasil kebetulan atau memiliki hubungan nyata"
      ]
    },
    {
      "cell_type": "code",
      "execution_count": 159,
      "metadata": {},
      "outputs": [
        {
          "data": {
            "image/png": "[encoded data removed]",
            "text/plain": [
              "<Figure size 1500x600 with 1 Axes>"
            ]
          },
          "metadata": {},
          "output_type": "display_data"
        }
      ],
      "source": [
        "# figure\n",
        "plt.figure(figsize=(15, 6))\n",
        "\n",
        "# plots\n",
        "sns.scatterplot(x=df_cleaned[\"revenue\"], y=df_cleaned[\"profit\"])\n",
        "sns.regplot(x=df_cleaned[\"revenue\"], y=df_cleaned[\"profit\"], scatter=False, color=\"red\")\n",
        "\n",
        "# label\n",
        "plt.title(\"Scatter Plot of Revenue vs Profit\")\n",
        "plt.xlabel(\"Revenue\")\n",
        "plt.ylabel(\"Profit\")\n",
        "plt.text(0.05, 0.95, f\"Spearman Correlation: {corr_revenue_profit:.2f}\\nP-value: {pval_revenue_profit:.2f}\", \n",
        "    transform=plt.gca().transAxes, fontsize=12, verticalalignment=\"top\")\n",
        "\n",
        "# show plot\n",
        "plt.grid(True)\n",
        "plt.show()\n"
      ]
    },
    {
      "cell_type": "markdown",
      "metadata": {},
      "source": [
        "insight:\n",
        "- ada korelasi prositif antara revenue dan profit dengan kecenderungan jika revenue meningkat, profit akan meningkat begitu juga sebaliknya"
      ]
    },
    {
      "cell_type": "markdown",
      "metadata": {},
      "source": [
        "## 5.6-Perbandingan Profit dan Confidence Interval Setelah Identifikasi Loss"
      ]
    },
    {
      "cell_type": "markdown",
      "metadata": {},
      "source": [
        "### 5.6.1-Mean Profit Berdasarkan Data History"
      ]
    },
    {
      "cell_type": "code",
      "execution_count": 160,
      "metadata": {},
      "outputs": [
        {
          "name": "stdout",
          "output_type": "stream",
          "text": [
            "rata-rata profit = 64.86554236218666\n"
          ]
        }
      ],
      "source": [
        "# mean profit\n",
        "mean_profit = df_cleaned[\"profit\"].mean()\n",
        "\n",
        "print(\"rata-rata profit =\", mean_profit)"
      ]
    },
    {
      "cell_type": "markdown",
      "metadata": {},
      "source": [
        "### 5.6.2-Eksplorasi Loss Profit by Product Category"
      ]
    },
    {
      "cell_type": "code",
      "execution_count": 161,
      "metadata": {},
      "outputs": [],
      "source": [
        "# create kolom profitability\n",
        "df_cleaned = df_cleaned.copy()\n",
        "df_cleaned[\"profitability\"] = np.where(df_cleaned[\"profit\"] > 0, 1, 0)"
      ]
    },
    {
      "cell_type": "code",
      "execution_count": 162,
      "metadata": {},
      "outputs": [
        {
          "data": {
            "text/html": [
              "<div>\n",
              "<style scoped>\n",
              "    .dataframe tbody tr th:only-of-type {\n",
              "        vertical-align: middle;\n",
              "    }\n",
              "\n",
              "    .dataframe tbody tr th {\n",
              "        vertical-align: top;\n",
              "    }\n",
              "\n",
              "    .dataframe thead th {\n",
              "        text-align: right;\n",
              "    }\n",
              "</style>\n",
              "<table border=\"1\" class=\"dataframe\">\n",
              "  <thead>\n",
              "    <tr style=\"text-align: right;\">\n",
              "      <th></th>\n",
              "      <th>date</th>\n",
              "      <th>year</th>\n",
              "      <th>month</th>\n",
              "      <th>customer_age</th>\n",
              "      <th>customer_gender</th>\n",
              "      <th>country</th>\n",
              "      <th>state</th>\n",
              "      <th>product_category</th>\n",
              "      <th>sub_category</th>\n",
              "      <th>quantity</th>\n",
              "      <th>unit_cost</th>\n",
              "      <th>unit_price</th>\n",
              "      <th>cost</th>\n",
              "      <th>revenue</th>\n",
              "      <th>profit</th>\n",
              "      <th>profitability</th>\n",
              "    </tr>\n",
              "  </thead>\n",
              "  <tbody>\n",
              "    <tr>\n",
              "      <th>0</th>\n",
              "      <td>2016-02-19</td>\n",
              "      <td>2016</td>\n",
              "      <td>February</td>\n",
              "      <td>29</td>\n",
              "      <td>F</td>\n",
              "      <td>United States</td>\n",
              "      <td>Washington</td>\n",
              "      <td>Accessories</td>\n",
              "      <td>Tires and Tubes</td>\n",
              "      <td>1</td>\n",
              "      <td>80.00</td>\n",
              "      <td>109.000000</td>\n",
              "      <td>80.0</td>\n",
              "      <td>109.0</td>\n",
              "      <td>29.0</td>\n",
              "      <td>1</td>\n",
              "    </tr>\n",
              "    <tr>\n",
              "      <th>1</th>\n",
              "      <td>2016-02-20</td>\n",
              "      <td>2016</td>\n",
              "      <td>February</td>\n",
              "      <td>29</td>\n",
              "      <td>F</td>\n",
              "      <td>United States</td>\n",
              "      <td>Washington</td>\n",
              "      <td>Clothing</td>\n",
              "      <td>Gloves</td>\n",
              "      <td>2</td>\n",
              "      <td>24.50</td>\n",
              "      <td>28.500000</td>\n",
              "      <td>49.0</td>\n",
              "      <td>57.0</td>\n",
              "      <td>8.0</td>\n",
              "      <td>1</td>\n",
              "    </tr>\n",
              "    <tr>\n",
              "      <th>2</th>\n",
              "      <td>2016-02-27</td>\n",
              "      <td>2016</td>\n",
              "      <td>February</td>\n",
              "      <td>29</td>\n",
              "      <td>F</td>\n",
              "      <td>United States</td>\n",
              "      <td>Washington</td>\n",
              "      <td>Accessories</td>\n",
              "      <td>Tires and Tubes</td>\n",
              "      <td>3</td>\n",
              "      <td>3.67</td>\n",
              "      <td>5.000000</td>\n",
              "      <td>11.0</td>\n",
              "      <td>15.0</td>\n",
              "      <td>4.0</td>\n",
              "      <td>1</td>\n",
              "    </tr>\n",
              "    <tr>\n",
              "      <th>3</th>\n",
              "      <td>2016-03-12</td>\n",
              "      <td>2016</td>\n",
              "      <td>March</td>\n",
              "      <td>29</td>\n",
              "      <td>F</td>\n",
              "      <td>United States</td>\n",
              "      <td>Washington</td>\n",
              "      <td>Accessories</td>\n",
              "      <td>Tires and Tubes</td>\n",
              "      <td>2</td>\n",
              "      <td>87.50</td>\n",
              "      <td>116.500000</td>\n",
              "      <td>175.0</td>\n",
              "      <td>233.0</td>\n",
              "      <td>58.0</td>\n",
              "      <td>1</td>\n",
              "    </tr>\n",
              "    <tr>\n",
              "      <th>4</th>\n",
              "      <td>2016-03-12</td>\n",
              "      <td>2016</td>\n",
              "      <td>March</td>\n",
              "      <td>29</td>\n",
              "      <td>F</td>\n",
              "      <td>United States</td>\n",
              "      <td>Washington</td>\n",
              "      <td>Accessories</td>\n",
              "      <td>Tires and Tubes</td>\n",
              "      <td>3</td>\n",
              "      <td>35.00</td>\n",
              "      <td>41.666667</td>\n",
              "      <td>105.0</td>\n",
              "      <td>125.0</td>\n",
              "      <td>20.0</td>\n",
              "      <td>1</td>\n",
              "    </tr>\n",
              "    <tr>\n",
              "      <th>...</th>\n",
              "      <td>...</td>\n",
              "      <td>...</td>\n",
              "      <td>...</td>\n",
              "      <td>...</td>\n",
              "      <td>...</td>\n",
              "      <td>...</td>\n",
              "      <td>...</td>\n",
              "      <td>...</td>\n",
              "      <td>...</td>\n",
              "      <td>...</td>\n",
              "      <td>...</td>\n",
              "      <td>...</td>\n",
              "      <td>...</td>\n",
              "      <td>...</td>\n",
              "      <td>...</td>\n",
              "      <td>...</td>\n",
              "    </tr>\n",
              "    <tr>\n",
              "      <th>34861</th>\n",
              "      <td>2015-03-22</td>\n",
              "      <td>2015</td>\n",
              "      <td>March</td>\n",
              "      <td>38</td>\n",
              "      <td>M</td>\n",
              "      <td>France</td>\n",
              "      <td>Charente-Maritime</td>\n",
              "      <td>Bikes</td>\n",
              "      <td>Mountain Bikes</td>\n",
              "      <td>1</td>\n",
              "      <td>2049.00</td>\n",
              "      <td>1487.000000</td>\n",
              "      <td>2049.0</td>\n",
              "      <td>1487.0</td>\n",
              "      <td>-562.0</td>\n",
              "      <td>0</td>\n",
              "    </tr>\n",
              "    <tr>\n",
              "      <th>34862</th>\n",
              "      <td>2016-02-07</td>\n",
              "      <td>2016</td>\n",
              "      <td>February</td>\n",
              "      <td>38</td>\n",
              "      <td>M</td>\n",
              "      <td>France</td>\n",
              "      <td>Hauts de Seine</td>\n",
              "      <td>Bikes</td>\n",
              "      <td>Mountain Bikes</td>\n",
              "      <td>2</td>\n",
              "      <td>1160.00</td>\n",
              "      <td>985.500000</td>\n",
              "      <td>2320.0</td>\n",
              "      <td>1971.0</td>\n",
              "      <td>-349.0</td>\n",
              "      <td>0</td>\n",
              "    </tr>\n",
              "    <tr>\n",
              "      <th>34863</th>\n",
              "      <td>2015-03-13</td>\n",
              "      <td>2015</td>\n",
              "      <td>March</td>\n",
              "      <td>38</td>\n",
              "      <td>M</td>\n",
              "      <td>France</td>\n",
              "      <td>Hauts de Seine</td>\n",
              "      <td>Bikes</td>\n",
              "      <td>Mountain Bikes</td>\n",
              "      <td>1</td>\n",
              "      <td>2049.00</td>\n",
              "      <td>1583.000000</td>\n",
              "      <td>2049.0</td>\n",
              "      <td>1583.0</td>\n",
              "      <td>-466.0</td>\n",
              "      <td>0</td>\n",
              "    </tr>\n",
              "    <tr>\n",
              "      <th>34864</th>\n",
              "      <td>2015-04-05</td>\n",
              "      <td>2015</td>\n",
              "      <td>April</td>\n",
              "      <td>38</td>\n",
              "      <td>M</td>\n",
              "      <td>France</td>\n",
              "      <td>Hauts de Seine</td>\n",
              "      <td>Bikes</td>\n",
              "      <td>Mountain Bikes</td>\n",
              "      <td>3</td>\n",
              "      <td>683.00</td>\n",
              "      <td>560.666667</td>\n",
              "      <td>2049.0</td>\n",
              "      <td>1682.0</td>\n",
              "      <td>-367.0</td>\n",
              "      <td>0</td>\n",
              "    </tr>\n",
              "    <tr>\n",
              "      <th>34865</th>\n",
              "      <td>2015-08-30</td>\n",
              "      <td>2015</td>\n",
              "      <td>August</td>\n",
              "      <td>38</td>\n",
              "      <td>M</td>\n",
              "      <td>France</td>\n",
              "      <td>Hauts de Seine</td>\n",
              "      <td>Bikes</td>\n",
              "      <td>Mountain Bikes</td>\n",
              "      <td>1</td>\n",
              "      <td>2320.00</td>\n",
              "      <td>1568.000000</td>\n",
              "      <td>2320.0</td>\n",
              "      <td>1568.0</td>\n",
              "      <td>-752.0</td>\n",
              "      <td>0</td>\n",
              "    </tr>\n",
              "  </tbody>\n",
              "</table>\n",
              "<p>34866 rows × 16 columns</p>\n",
              "</div>"
            ],
            "text/plain": [
              "            date  year     month  customer_age customer_gender        country  \\\n",
              "0     2016-02-19  2016  February            29               F  United States   \n",
              "1     2016-02-20  2016  February            29               F  United States   \n",
              "2     2016-02-27  2016  February            29               F  United States   \n",
              "3     2016-03-12  2016     March            29               F  United States   \n",
              "4     2016-03-12  2016     March            29               F  United States   \n",
              "...          ...   ...       ...           ...             ...            ...   \n",
              "34861 2015-03-22  2015     March            38               M         France   \n",
              "34862 2016-02-07  2016  February            38               M         France   \n",
              "34863 2015-03-13  2015     March            38               M         France   \n",
              "34864 2015-04-05  2015     April            38               M         France   \n",
              "34865 2015-08-30  2015    August            38               M         France   \n",
              "\n",
              "                   state product_category     sub_category  quantity  \\\n",
              "0             Washington      Accessories  Tires and Tubes         1   \n",
              "1             Washington         Clothing           Gloves         2   \n",
              "2             Washington      Accessories  Tires and Tubes         3   \n",
              "3             Washington      Accessories  Tires and Tubes         2   \n",
              "4             Washington      Accessories  Tires and Tubes         3   \n",
              "...                  ...              ...              ...       ...   \n",
              "34861  Charente-Maritime            Bikes   Mountain Bikes         1   \n",
              "34862     Hauts de Seine            Bikes   Mountain Bikes         2   \n",
              "34863     Hauts de Seine            Bikes   Mountain Bikes         1   \n",
              "34864     Hauts de Seine            Bikes   Mountain Bikes         3   \n",
              "34865     Hauts de Seine            Bikes   Mountain Bikes         1   \n",
              "\n",
              "       unit_cost   unit_price    cost  revenue  profit  profitability  \n",
              "0          80.00   109.000000    80.0    109.0    29.0              1  \n",
              "1          24.50    28.500000    49.0     57.0     8.0              1  \n",
              "2           3.67     5.000000    11.0     15.0     4.0              1  \n",
              "3          87.50   116.500000   175.0    233.0    58.0              1  \n",
              "4          35.00    41.666667   105.0    125.0    20.0              1  \n",
              "...          ...          ...     ...      ...     ...            ...  \n",
              "34861    2049.00  1487.000000  2049.0   1487.0  -562.0              0  \n",
              "34862    1160.00   985.500000  2320.0   1971.0  -349.0              0  \n",
              "34863    2049.00  1583.000000  2049.0   1583.0  -466.0              0  \n",
              "34864     683.00   560.666667  2049.0   1682.0  -367.0              0  \n",
              "34865    2320.00  1568.000000  2320.0   1568.0  -752.0              0  \n",
              "\n",
              "[34866 rows x 16 columns]"
            ]
          },
          "execution_count": 162,
          "metadata": {},
          "output_type": "execute_result"
        }
      ],
      "source": [
        "# cek hasil create kolom profitability\n",
        "df_cleaned"
      ]
    },
    {
      "cell_type": "code",
      "execution_count": 163,
      "metadata": {},
      "outputs": [
        {
          "data": {
            "text/html": [
              "<div>\n",
              "<style scoped>\n",
              "    .dataframe tbody tr th:only-of-type {\n",
              "        vertical-align: middle;\n",
              "    }\n",
              "\n",
              "    .dataframe tbody tr th {\n",
              "        vertical-align: top;\n",
              "    }\n",
              "\n",
              "    .dataframe thead th {\n",
              "        text-align: right;\n",
              "    }\n",
              "</style>\n",
              "<table border=\"1\" class=\"dataframe\">\n",
              "  <thead>\n",
              "    <tr style=\"text-align: right;\">\n",
              "      <th></th>\n",
              "      <th>product_category</th>\n",
              "      <th>sub_category</th>\n",
              "      <th>count_loss</th>\n",
              "      <th>total_transaction</th>\n",
              "      <th>percentage_loss</th>\n",
              "    </tr>\n",
              "  </thead>\n",
              "  <tbody>\n",
              "    <tr>\n",
              "      <th>9</th>\n",
              "      <td>Bikes</td>\n",
              "      <td>Road Bikes</td>\n",
              "      <td>1476</td>\n",
              "      <td>3022</td>\n",
              "      <td>48.841827</td>\n",
              "    </tr>\n",
              "    <tr>\n",
              "      <th>8</th>\n",
              "      <td>Bikes</td>\n",
              "      <td>Mountain Bikes</td>\n",
              "      <td>1281</td>\n",
              "      <td>2737</td>\n",
              "      <td>46.803069</td>\n",
              "    </tr>\n",
              "    <tr>\n",
              "      <th>10</th>\n",
              "      <td>Bikes</td>\n",
              "      <td>Touring Bikes</td>\n",
              "      <td>551</td>\n",
              "      <td>1334</td>\n",
              "      <td>41.304348</td>\n",
              "    </tr>\n",
              "    <tr>\n",
              "      <th>15</th>\n",
              "      <td>Clothing</td>\n",
              "      <td>Socks</td>\n",
              "      <td>48</td>\n",
              "      <td>364</td>\n",
              "      <td>13.186813</td>\n",
              "    </tr>\n",
              "    <tr>\n",
              "      <th>14</th>\n",
              "      <td>Clothing</td>\n",
              "      <td>Shorts</td>\n",
              "      <td>72</td>\n",
              "      <td>566</td>\n",
              "      <td>12.720848</td>\n",
              "    </tr>\n",
              "    <tr>\n",
              "      <th>13</th>\n",
              "      <td>Clothing</td>\n",
              "      <td>Jerseys</td>\n",
              "      <td>232</td>\n",
              "      <td>2000</td>\n",
              "      <td>11.600000</td>\n",
              "    </tr>\n",
              "    <tr>\n",
              "      <th>16</th>\n",
              "      <td>Clothing</td>\n",
              "      <td>Vests</td>\n",
              "      <td>36</td>\n",
              "      <td>312</td>\n",
              "      <td>11.538462</td>\n",
              "    </tr>\n",
              "    <tr>\n",
              "      <th>11</th>\n",
              "      <td>Clothing</td>\n",
              "      <td>Caps</td>\n",
              "      <td>167</td>\n",
              "      <td>1517</td>\n",
              "      <td>11.008570</td>\n",
              "    </tr>\n",
              "    <tr>\n",
              "      <th>7</th>\n",
              "      <td>Accessories</td>\n",
              "      <td>Tires and Tubes</td>\n",
              "      <td>785</td>\n",
              "      <td>11112</td>\n",
              "      <td>7.064435</td>\n",
              "    </tr>\n",
              "    <tr>\n",
              "      <th>2</th>\n",
              "      <td>Accessories</td>\n",
              "      <td>Bottles and Cages</td>\n",
              "      <td>311</td>\n",
              "      <td>5295</td>\n",
              "      <td>5.873466</td>\n",
              "    </tr>\n",
              "    <tr>\n",
              "      <th>3</th>\n",
              "      <td>Accessories</td>\n",
              "      <td>Cleaners</td>\n",
              "      <td>32</td>\n",
              "      <td>545</td>\n",
              "      <td>5.871560</td>\n",
              "    </tr>\n",
              "    <tr>\n",
              "      <th>5</th>\n",
              "      <td>Accessories</td>\n",
              "      <td>Helmets</td>\n",
              "      <td>225</td>\n",
              "      <td>4176</td>\n",
              "      <td>5.387931</td>\n",
              "    </tr>\n",
              "    <tr>\n",
              "      <th>1</th>\n",
              "      <td>Accessories</td>\n",
              "      <td>Bike Stands</td>\n",
              "      <td>7</td>\n",
              "      <td>145</td>\n",
              "      <td>4.827586</td>\n",
              "    </tr>\n",
              "    <tr>\n",
              "      <th>6</th>\n",
              "      <td>Accessories</td>\n",
              "      <td>Hydration Packs</td>\n",
              "      <td>18</td>\n",
              "      <td>396</td>\n",
              "      <td>4.545455</td>\n",
              "    </tr>\n",
              "    <tr>\n",
              "      <th>12</th>\n",
              "      <td>Clothing</td>\n",
              "      <td>Gloves</td>\n",
              "      <td>14</td>\n",
              "      <td>480</td>\n",
              "      <td>2.916667</td>\n",
              "    </tr>\n",
              "    <tr>\n",
              "      <th>4</th>\n",
              "      <td>Accessories</td>\n",
              "      <td>Fenders</td>\n",
              "      <td>17</td>\n",
              "      <td>762</td>\n",
              "      <td>2.230971</td>\n",
              "    </tr>\n",
              "    <tr>\n",
              "      <th>0</th>\n",
              "      <td>Accessories</td>\n",
              "      <td>Bike Racks</td>\n",
              "      <td>2</td>\n",
              "      <td>103</td>\n",
              "      <td>1.941748</td>\n",
              "    </tr>\n",
              "  </tbody>\n",
              "</table>\n",
              "</div>"
            ],
            "text/plain": [
              "   product_category       sub_category  count_loss  total_transaction  \\\n",
              "9             Bikes         Road Bikes        1476               3022   \n",
              "8             Bikes     Mountain Bikes        1281               2737   \n",
              "10            Bikes      Touring Bikes         551               1334   \n",
              "15         Clothing              Socks          48                364   \n",
              "14         Clothing             Shorts          72                566   \n",
              "13         Clothing            Jerseys         232               2000   \n",
              "16         Clothing              Vests          36                312   \n",
              "11         Clothing               Caps         167               1517   \n",
              "7       Accessories    Tires and Tubes         785              11112   \n",
              "2       Accessories  Bottles and Cages         311               5295   \n",
              "3       Accessories           Cleaners          32                545   \n",
              "5       Accessories            Helmets         225               4176   \n",
              "1       Accessories        Bike Stands           7                145   \n",
              "6       Accessories    Hydration Packs          18                396   \n",
              "12         Clothing             Gloves          14                480   \n",
              "4       Accessories            Fenders          17                762   \n",
              "0       Accessories         Bike Racks           2                103   \n",
              "\n",
              "    percentage_loss  \n",
              "9         48.841827  \n",
              "8         46.803069  \n",
              "10        41.304348  \n",
              "15        13.186813  \n",
              "14        12.720848  \n",
              "13        11.600000  \n",
              "16        11.538462  \n",
              "11        11.008570  \n",
              "7          7.064435  \n",
              "2          5.873466  \n",
              "3          5.871560  \n",
              "5          5.387931  \n",
              "1          4.827586  \n",
              "6          4.545455  \n",
              "12         2.916667  \n",
              "4          2.230971  \n",
              "0          1.941748  "
            ]
          },
          "execution_count": 163,
          "metadata": {},
          "output_type": "execute_result"
        }
      ],
      "source": [
        "# transaksi loss\n",
        "df_cleaned_loss = df_cleaned[df_cleaned[\"profitability\"] == 0]\n",
        "\n",
        "# transaksi loss group by\n",
        "df_loss = df_cleaned_loss.groupby([\"product_category\", \"sub_category\"]).size().reset_index(name=\"count_loss\")\n",
        "\n",
        "# total counts per product_category dan sub_category\n",
        "df_total_transaction = df_cleaned.groupby([\"product_category\", \"sub_category\"]).size().reset_index(name=\"total_transaction\")\n",
        "\n",
        "# merge df_loss dan df_total_transaction\n",
        "df_loss = pd.merge(df_loss, df_total_transaction, on=[\"product_category\", \"sub_category\"], how=\"left\")\n",
        "\n",
        "# percentage loss\n",
        "df_loss[\"percentage_loss\"] = df_loss[\"count_loss\"] / df_loss[\"total_transaction\"] * 100\n",
        "\n",
        "# show df_loss\n",
        "df_loss.sort_values(by=\"percentage_loss\", ascending=False)"
      ]
    },
    {
      "cell_type": "markdown",
      "metadata": {},
      "source": [
        "insight:\n",
        "- kategori produk Bikes memiliki persentase transaksi loss yang signifikan yaitu lebih dari 40% dari setiap sub kategorinya\n",
        "- kategori lainnya memberikan loss di bawah 15%"
      ]
    },
    {
      "cell_type": "code",
      "execution_count": 164,
      "metadata": {},
      "outputs": [
        {
          "data": {
            "image/png": "[encoded data removed]",
            "text/plain": [
              "<Figure size 1500x700 with 1 Axes>"
            ]
          },
          "metadata": {},
          "output_type": "display_data"
        }
      ],
      "source": [
        "# group by df_loss\n",
        "df_loss_group = df_loss.groupby(\"product_category\")[\"count_loss\"].sum().reset_index()\n",
        "\n",
        "# figure\n",
        "plt.figure(figsize=(15, 7))\n",
        "\n",
        "# plot pie chart\n",
        "plt.pie(df_loss_group[\"count_loss\"], labels=df_loss_group[\"product_category\"], autopct=\"%1.1f%%\", startangle=90)\n",
        "\n",
        "# label\n",
        "plt.title(\"Pie Chart Loss by Product Category\")\n",
        "\n",
        "# show plot\n",
        "plt.axis(\"equal\")\n",
        "plt.show()"
      ]
    },
    {
      "cell_type": "markdown",
      "metadata": {},
      "source": [
        "insight:\n",
        "- kategori produk Bikes memiliki persentase loss terbesar sebanyak 62.7% dibandingkan dengan kategori produk lainnya"
      ]
    },
    {
      "cell_type": "markdown",
      "metadata": {},
      "source": [
        "### 5.6.3-Convidence Interval Profit tanpa Kategori Produk Bikes"
      ]
    },
    {
      "cell_type": "code",
      "execution_count": 165,
      "metadata": {},
      "outputs": [
        {
          "data": {
            "text/html": [
              "<div>\n",
              "<style scoped>\n",
              "    .dataframe tbody tr th:only-of-type {\n",
              "        vertical-align: middle;\n",
              "    }\n",
              "\n",
              "    .dataframe tbody tr th {\n",
              "        vertical-align: top;\n",
              "    }\n",
              "\n",
              "    .dataframe thead th {\n",
              "        text-align: right;\n",
              "    }\n",
              "</style>\n",
              "<table border=\"1\" class=\"dataframe\">\n",
              "  <thead>\n",
              "    <tr style=\"text-align: right;\">\n",
              "      <th></th>\n",
              "      <th>date</th>\n",
              "      <th>year</th>\n",
              "      <th>month</th>\n",
              "      <th>customer_age</th>\n",
              "      <th>customer_gender</th>\n",
              "      <th>country</th>\n",
              "      <th>state</th>\n",
              "      <th>product_category</th>\n",
              "      <th>sub_category</th>\n",
              "      <th>quantity</th>\n",
              "      <th>unit_cost</th>\n",
              "      <th>unit_price</th>\n",
              "      <th>cost</th>\n",
              "      <th>revenue</th>\n",
              "      <th>profit</th>\n",
              "      <th>profitability</th>\n",
              "    </tr>\n",
              "  </thead>\n",
              "  <tbody>\n",
              "    <tr>\n",
              "      <th>0</th>\n",
              "      <td>2016-02-19</td>\n",
              "      <td>2016</td>\n",
              "      <td>February</td>\n",
              "      <td>29</td>\n",
              "      <td>F</td>\n",
              "      <td>United States</td>\n",
              "      <td>Washington</td>\n",
              "      <td>Accessories</td>\n",
              "      <td>Tires and Tubes</td>\n",
              "      <td>1</td>\n",
              "      <td>80.00</td>\n",
              "      <td>109.000000</td>\n",
              "      <td>80.0</td>\n",
              "      <td>109.0</td>\n",
              "      <td>29.0</td>\n",
              "      <td>1</td>\n",
              "    </tr>\n",
              "    <tr>\n",
              "      <th>1</th>\n",
              "      <td>2016-02-20</td>\n",
              "      <td>2016</td>\n",
              "      <td>February</td>\n",
              "      <td>29</td>\n",
              "      <td>F</td>\n",
              "      <td>United States</td>\n",
              "      <td>Washington</td>\n",
              "      <td>Clothing</td>\n",
              "      <td>Gloves</td>\n",
              "      <td>2</td>\n",
              "      <td>24.50</td>\n",
              "      <td>28.500000</td>\n",
              "      <td>49.0</td>\n",
              "      <td>57.0</td>\n",
              "      <td>8.0</td>\n",
              "      <td>1</td>\n",
              "    </tr>\n",
              "    <tr>\n",
              "      <th>2</th>\n",
              "      <td>2016-02-27</td>\n",
              "      <td>2016</td>\n",
              "      <td>February</td>\n",
              "      <td>29</td>\n",
              "      <td>F</td>\n",
              "      <td>United States</td>\n",
              "      <td>Washington</td>\n",
              "      <td>Accessories</td>\n",
              "      <td>Tires and Tubes</td>\n",
              "      <td>3</td>\n",
              "      <td>3.67</td>\n",
              "      <td>5.000000</td>\n",
              "      <td>11.0</td>\n",
              "      <td>15.0</td>\n",
              "      <td>4.0</td>\n",
              "      <td>1</td>\n",
              "    </tr>\n",
              "    <tr>\n",
              "      <th>3</th>\n",
              "      <td>2016-03-12</td>\n",
              "      <td>2016</td>\n",
              "      <td>March</td>\n",
              "      <td>29</td>\n",
              "      <td>F</td>\n",
              "      <td>United States</td>\n",
              "      <td>Washington</td>\n",
              "      <td>Accessories</td>\n",
              "      <td>Tires and Tubes</td>\n",
              "      <td>2</td>\n",
              "      <td>87.50</td>\n",
              "      <td>116.500000</td>\n",
              "      <td>175.0</td>\n",
              "      <td>233.0</td>\n",
              "      <td>58.0</td>\n",
              "      <td>1</td>\n",
              "    </tr>\n",
              "    <tr>\n",
              "      <th>4</th>\n",
              "      <td>2016-03-12</td>\n",
              "      <td>2016</td>\n",
              "      <td>March</td>\n",
              "      <td>29</td>\n",
              "      <td>F</td>\n",
              "      <td>United States</td>\n",
              "      <td>Washington</td>\n",
              "      <td>Accessories</td>\n",
              "      <td>Tires and Tubes</td>\n",
              "      <td>3</td>\n",
              "      <td>35.00</td>\n",
              "      <td>41.666667</td>\n",
              "      <td>105.0</td>\n",
              "      <td>125.0</td>\n",
              "      <td>20.0</td>\n",
              "      <td>1</td>\n",
              "    </tr>\n",
              "    <tr>\n",
              "      <th>...</th>\n",
              "      <td>...</td>\n",
              "      <td>...</td>\n",
              "      <td>...</td>\n",
              "      <td>...</td>\n",
              "      <td>...</td>\n",
              "      <td>...</td>\n",
              "      <td>...</td>\n",
              "      <td>...</td>\n",
              "      <td>...</td>\n",
              "      <td>...</td>\n",
              "      <td>...</td>\n",
              "      <td>...</td>\n",
              "      <td>...</td>\n",
              "      <td>...</td>\n",
              "      <td>...</td>\n",
              "      <td>...</td>\n",
              "    </tr>\n",
              "    <tr>\n",
              "      <th>27768</th>\n",
              "      <td>2016-04-27</td>\n",
              "      <td>2016</td>\n",
              "      <td>April</td>\n",
              "      <td>37</td>\n",
              "      <td>F</td>\n",
              "      <td>France</td>\n",
              "      <td>Seine (Paris)</td>\n",
              "      <td>Accessories</td>\n",
              "      <td>Tires and Tubes</td>\n",
              "      <td>3</td>\n",
              "      <td>141.33</td>\n",
              "      <td>194.666667</td>\n",
              "      <td>424.0</td>\n",
              "      <td>584.0</td>\n",
              "      <td>160.0</td>\n",
              "      <td>1</td>\n",
              "    </tr>\n",
              "    <tr>\n",
              "      <th>27769</th>\n",
              "      <td>2016-04-27</td>\n",
              "      <td>2016</td>\n",
              "      <td>April</td>\n",
              "      <td>37</td>\n",
              "      <td>F</td>\n",
              "      <td>France</td>\n",
              "      <td>Seine (Paris)</td>\n",
              "      <td>Accessories</td>\n",
              "      <td>Tires and Tubes</td>\n",
              "      <td>2</td>\n",
              "      <td>10.00</td>\n",
              "      <td>12.000000</td>\n",
              "      <td>20.0</td>\n",
              "      <td>24.0</td>\n",
              "      <td>4.0</td>\n",
              "      <td>1</td>\n",
              "    </tr>\n",
              "    <tr>\n",
              "      <th>27770</th>\n",
              "      <td>2016-02-19</td>\n",
              "      <td>2016</td>\n",
              "      <td>February</td>\n",
              "      <td>38</td>\n",
              "      <td>M</td>\n",
              "      <td>United Kingdom</td>\n",
              "      <td>England</td>\n",
              "      <td>Clothing</td>\n",
              "      <td>Caps</td>\n",
              "      <td>3</td>\n",
              "      <td>75.00</td>\n",
              "      <td>100.000000</td>\n",
              "      <td>225.0</td>\n",
              "      <td>300.0</td>\n",
              "      <td>75.0</td>\n",
              "      <td>1</td>\n",
              "    </tr>\n",
              "    <tr>\n",
              "      <th>27771</th>\n",
              "      <td>2016-02-22</td>\n",
              "      <td>2016</td>\n",
              "      <td>February</td>\n",
              "      <td>38</td>\n",
              "      <td>M</td>\n",
              "      <td>United Kingdom</td>\n",
              "      <td>England</td>\n",
              "      <td>Clothing</td>\n",
              "      <td>Caps</td>\n",
              "      <td>2</td>\n",
              "      <td>13.50</td>\n",
              "      <td>19.000000</td>\n",
              "      <td>27.0</td>\n",
              "      <td>38.0</td>\n",
              "      <td>11.0</td>\n",
              "      <td>1</td>\n",
              "    </tr>\n",
              "    <tr>\n",
              "      <th>27772</th>\n",
              "      <td>2015-12-20</td>\n",
              "      <td>2015</td>\n",
              "      <td>December</td>\n",
              "      <td>38</td>\n",
              "      <td>M</td>\n",
              "      <td>United Kingdom</td>\n",
              "      <td>England</td>\n",
              "      <td>Clothing</td>\n",
              "      <td>Caps</td>\n",
              "      <td>1</td>\n",
              "      <td>90.00</td>\n",
              "      <td>94.000000</td>\n",
              "      <td>90.0</td>\n",
              "      <td>94.0</td>\n",
              "      <td>4.0</td>\n",
              "      <td>1</td>\n",
              "    </tr>\n",
              "  </tbody>\n",
              "</table>\n",
              "<p>27773 rows × 16 columns</p>\n",
              "</div>"
            ],
            "text/plain": [
              "            date  year     month  customer_age customer_gender  \\\n",
              "0     2016-02-19  2016  February            29               F   \n",
              "1     2016-02-20  2016  February            29               F   \n",
              "2     2016-02-27  2016  February            29               F   \n",
              "3     2016-03-12  2016     March            29               F   \n",
              "4     2016-03-12  2016     March            29               F   \n",
              "...          ...   ...       ...           ...             ...   \n",
              "27768 2016-04-27  2016     April            37               F   \n",
              "27769 2016-04-27  2016     April            37               F   \n",
              "27770 2016-02-19  2016  February            38               M   \n",
              "27771 2016-02-22  2016  February            38               M   \n",
              "27772 2015-12-20  2015  December            38               M   \n",
              "\n",
              "              country          state product_category     sub_category  \\\n",
              "0       United States     Washington      Accessories  Tires and Tubes   \n",
              "1       United States     Washington         Clothing           Gloves   \n",
              "2       United States     Washington      Accessories  Tires and Tubes   \n",
              "3       United States     Washington      Accessories  Tires and Tubes   \n",
              "4       United States     Washington      Accessories  Tires and Tubes   \n",
              "...               ...            ...              ...              ...   \n",
              "27768          France  Seine (Paris)      Accessories  Tires and Tubes   \n",
              "27769          France  Seine (Paris)      Accessories  Tires and Tubes   \n",
              "27770  United Kingdom        England         Clothing             Caps   \n",
              "27771  United Kingdom        England         Clothing             Caps   \n",
              "27772  United Kingdom        England         Clothing             Caps   \n",
              "\n",
              "       quantity  unit_cost  unit_price   cost  revenue  profit  profitability  \n",
              "0             1      80.00  109.000000   80.0    109.0    29.0              1  \n",
              "1             2      24.50   28.500000   49.0     57.0     8.0              1  \n",
              "2             3       3.67    5.000000   11.0     15.0     4.0              1  \n",
              "3             2      87.50  116.500000  175.0    233.0    58.0              1  \n",
              "4             3      35.00   41.666667  105.0    125.0    20.0              1  \n",
              "...         ...        ...         ...    ...      ...     ...            ...  \n",
              "27768         3     141.33  194.666667  424.0    584.0   160.0              1  \n",
              "27769         2      10.00   12.000000   20.0     24.0     4.0              1  \n",
              "27770         3      75.00  100.000000  225.0    300.0    75.0              1  \n",
              "27771         2      13.50   19.000000   27.0     38.0    11.0              1  \n",
              "27772         1      90.00   94.000000   90.0     94.0     4.0              1  \n",
              "\n",
              "[27773 rows x 16 columns]"
            ]
          },
          "execution_count": 165,
          "metadata": {},
          "output_type": "execute_result"
        }
      ],
      "source": [
        "# df_cleand tanpa product_category Bikes\n",
        "df_cleaned_nobikes = df_cleaned[df_cleaned[\"product_category\"] != \"Bikes\"].reset_index(drop=True)\n",
        "df_cleaned_nobikes"
      ]
    },
    {
      "cell_type": "code",
      "execution_count": 166,
      "metadata": {},
      "outputs": [],
      "source": [
        "# median, mean, standar deviasi, q1, q3 dan interquantile df_cleaned_nobikes\n",
        "mean_profit_nobikes = df_cleaned_nobikes[\"profit\"].mean()\n",
        "std_profit_nobikes = df_cleaned_nobikes[\"profit\"].std()"
      ]
    },
    {
      "cell_type": "code",
      "execution_count": 167,
      "metadata": {},
      "outputs": [],
      "source": [
        "# n df_cleaned_nobikes dan z_score\n",
        "confidence_level = 0.95\n",
        "alpha = 1 - confidence_level\n",
        "z_score = stats.norm.ppf(1 - alpha / 2)\n",
        "n_nobikes = len(df_cleaned_nobikes)\n",
        "\n",
        "# lower dan upper boundary df_cleaned_nobikes\n",
        "lower_bound_nobikes = mean_profit_nobikes - z_score * (std_profit_nobikes / (n_nobikes ** 0.5))\n",
        "upper_bound_nobikes = mean_profit_nobikes + z_score * (std_profit_nobikes / (n_nobikes ** 0.5))\n",
        "\n",
        "percentage_lower_bound = (lower_bound_nobikes - mean_profit) / mean_profit * 100\n",
        "percentage_upper_bound = (upper_bound_nobikes - mean_profit) / mean_profit * 100"
      ]
    },
    {
      "cell_type": "code",
      "execution_count": 168,
      "metadata": {},
      "outputs": [
        {
          "name": "stdout",
          "output_type": "stream",
          "text": [
            "rata-rata profit awal = 64.86554236218666\n",
            "lower boundary = 67.96219156808543\n",
            "upper boundary = 70.58971135921807\n",
            "\n",
            "persentase lower boundary terhadap mean profit awal 4.77\n",
            "persentase upper boundary terhadap mean profit awal 8.82\n"
          ]
        }
      ],
      "source": [
        "print(f\"rata-rata profit awal = {mean_profit}\")\n",
        "print(f\"lower boundary = {lower_bound_nobikes}\")\n",
        "print(f\"upper boundary = {upper_bound_nobikes}\")\n",
        "print(\"\")\n",
        "print(f\"persentase lower boundary terhadap mean profit awal {percentage_lower_bound.round(2)}\")\n",
        "print(f\"persentase upper boundary terhadap mean profit awal {percentage_upper_bound.round(2)}\")"
      ]
    },
    {
      "cell_type": "markdown",
      "metadata": {},
      "source": [
        "insight:\n",
        "- Dengan menghentikan produksi dan penjualan Bikes, rata-rata pendapatan yang awalnya 64.86 dipercaya bisa naik dengan nilai minimum 67.96 dan maksimum 70.59\n",
        "- Untuk kenaikan profit sebanyak 5% sangat dimungkinkan dengan rekomendasi menghentikan produksi dan penjualan produk kategori Bikes"
      ]
    },
    {
      "cell_type": "markdown",
      "metadata": {
        "id": "qbGgHrTqh0YP"
      },
      "source": [
        "# 6-Conclusion"
      ]
    },
    {
      "cell_type": "markdown",
      "metadata": {
        "id": "sMeWQ88Gh6eB"
      },
      "source": [
        "## 6.1-Profit of Category"
      ]
    },
    {
      "cell_type": "markdown",
      "metadata": {},
      "source": [
        "Dari hasil penelusuran Product Category Accessories memiliki persentase terbesar pada profit sebanyak 61%"
      ]
    },
    {
      "cell_type": "markdown",
      "metadata": {},
      "source": [
        "## 6.2-Profit Trends"
      ]
    },
    {
      "cell_type": "markdown",
      "metadata": {},
      "source": [
        "- Pada awal periode (Januari s.d. Juni 2015) mengalami kerugian namun berangsur naik menjadi profit sampai dengan Desember 2015. Terjadi kenaikan profit yang signifikan pada Desmeber 2015 menuju tahun 2016 dan berlanjut mendapatkan profit tinggi sampai dengan Juni 2016. Terjadi penurunan profit yang signifikan pada Juni 2016 menuju Juli 2016.\n",
        "\n",
        "- Terlihat adanya pola kenaikan dan penurunan pada pertengahan tahun dan akhir tahun dimana profit bisa naik secara signifikan atau turun secara signifikan. Oleh karena itu direkomendasikan untuk melakukan analisis lebih lanjut terkait faktor internal dan eksternal yang berfokus pada periode pertengahan tahun dan akhir tahun kemudian membuat strategi yang tepat berdasarkan hasil analisis untuk mendorong kenaikan profit yang signifikan."
      ]
    },
    {
      "cell_type": "markdown",
      "metadata": {},
      "source": [
        "## 6.3-Profit of Country"
      ]
    },
    {
      "cell_type": "markdown",
      "metadata": {},
      "source": [
        "Dari hasil penelusuran Germany memiliki persentase terbesar pada profit sebanyak 42.4%"
      ]
    },
    {
      "cell_type": "markdown",
      "metadata": {},
      "source": [
        "## 6.4-Segmentasi"
      ]
    },
    {
      "cell_type": "markdown",
      "metadata": {},
      "source": [
        "Secara garis besar secara gender tidak memiliki perbedaan yang signifikan dan relatif sama namun terdapat potensi pasar pada rentang usia 25 sampai dengan 45 tahun. Berdasarkan hal tersebut pengembangan produk dan pemasaran bisa difokuskan pada kelompok usia muda dan paruh baya untuk semua gender. Untuk perluasan pasar juga bisa dilakukan untuk usia lanjut (lebih dari 45 tahun) dengan mempertimbangkan kebutuhan khusus dan preferensi kelompok usia lanjut."
      ]
    },
    {
      "cell_type": "markdown",
      "metadata": {},
      "source": [
        "## 6.5-Korelasi antara Revenue dan Profit"
      ]
    },
    {
      "cell_type": "markdown",
      "metadata": {},
      "source": [
        "Dari hasil perhitungan, revenue dan profit memiliki korelasi positif dengan kecenderungan jika revenue meningkat, profit akan meningkat begitu juga sebaliknya dan korelasi ini ditemukan bukan dari hasil yang kebetulan atau memiliki hubungan yang nyatas"
      ]
    },
    {
      "cell_type": "markdown",
      "metadata": {},
      "source": [
        "## 6.6-Perbandingan Profit dan Confidence Interval Setelah Identifikasi Loss"
      ]
    },
    {
      "cell_type": "markdown",
      "metadata": {},
      "source": [
        "- Dari hasil penelusuran ditemukan bahwa kategori produk Bikes memberikan banyak loss dan berdasarkan informasi tersebut dilakukan perhitungan dengan mengeluarkan kategori produk Bikes dan menghitung convidence interval dengan convidence level 95%. Hasilnya menunjukan bahwa rata-rata pendapatan bisa naik 4.77% sampai dengan 8.82% dari profit sebelumnya.\n",
        "- Berdasarkan hal tersebut kenaikan profit sebanyak 5% memungkinkan, dengan alternatif rekomendasi memberhentikan produksi dan penjualan Bikes."
      ]
    }
  ],
  "metadata": {
    "colab": {
      "collapsed_sections": [
        "mCRpa7rMhTuJ",
        "OYUID6p9qiDq",
        "whZHURnRqnv5",
        "mexJ8tSohY8J",
        "nwOG04v9rv1N"
      ],
      "provenance": [],
      "toc_visible": true
    },
    "kernelspec": {
      "display_name": "Python 3",
      "name": "python3"
    },
    "language_info": {
      "codemirror_mode": {
        "name": "ipython",
        "version": 3
      },
      "file_extension": ".py",
      "mimetype": "text/x-python",
      "name": "python",
      "nbconvert_exporter": "python",
      "pygments_lexer": "ipython3",
      "version": "3.11.7"
    }
  },
  "nbformat": 4,
  "nbformat_minor": 0
}
